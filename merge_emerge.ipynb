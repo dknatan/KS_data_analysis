{
 "cells": [
  {
   "cell_type": "code",
   "execution_count": 8,
   "metadata": {},
   "outputs": [],
   "source": [
    "import numpy as np\n",
    "import matplotlib.pyplot as plt"
   ]
  },
  {
   "cell_type": "code",
   "execution_count": 20,
   "metadata": {},
   "outputs": [],
   "source": [
    "def emerge_merge2d(z):\n",
    "    x, y = z\n",
    "    assert(y >= x)\n",
    "    if x == y:\n",
    "        if x < 0.5:\n",
    "            return x, 0.5*(1. + x)\n",
    "        elif x > 0.5:\n",
    "            return 0.5*x, x\n",
    "        else:\n",
    "            return 1./0.\n",
    "    else:\n",
    "        return 0.5*(x + y), 0.5*(x + y)\n",
    "    \n",
    "n_steps = 100\n",
    "a = np.zeros((n_steps, 2))\n",
    "a[0, :] = 0.1, 0.21\n",
    "\n",
    "for i in range(1, n_steps):\n",
    "    a[i, :] = emerge_merge2d(a[i-1,:])\n",
    "\n"
   ]
  },
  {
   "cell_type": "code",
   "execution_count": 21,
   "metadata": {},
   "outputs": [
    {
     "data": {
      "image/png": "[encoded data removed]",
      "text/plain": [
       "<Figure size 432x288 with 1 Axes>"
      ]
     },
     "metadata": {
      "needs_background": "light"
     },
     "output_type": "display_data"
    }
   ],
   "source": [
    "fig, ax = plt.subplots(1)\n",
    "ax.plot(a[:,0], a[:,1])\n",
    "ax.grid()\n",
    "ax.set_aspect('equal')\n",
    "ax.set_xlim(0,1)\n",
    "ax.set_ylim(0,1)\n",
    "plt.show()"
   ]
  },
  {
   "cell_type": "code",
   "execution_count": null,
   "metadata": {},
   "outputs": [],
   "source": []
  }
 ],
 "metadata": {
  "kernelspec": {
   "display_name": "Python 3",
   "language": "python",
   "name": "python3"
  },
  "language_info": {
   "codemirror_mode": {
    "name": "ipython",
    "version": 3
   },
   "file_extension": ".py",
   "mimetype": "text/x-python",
   "name": "python",
   "nbconvert_exporter": "python",
   "pygments_lexer": "ipython3",
   "version": "3.8.10"
  }
 },
 "nbformat": 4,
 "nbformat_minor": 2
}
