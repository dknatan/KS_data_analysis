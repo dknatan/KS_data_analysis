{
 "cells": [
  {
   "cell_type": "code",
   "execution_count": 10,
   "metadata": {
    "code_folding": [
     0
    ],
    "jupyter": {
     "source_hidden": true
    }
   },
   "outputs": [
    {
     "data": {
      "application/vnd.jupyter.widget-view+json": {
       "model_id": "5dea314035d84bf890a2fafdb95ce65f",
       "version_major": 2,
       "version_minor": 0
      },
      "text/plain": [
       "interactive(children=(FloatSlider(value=1.0, description='sig', max=5.0, min=0.1), FloatSlider(value=1.0, desc…"
      ]
     },
     "metadata": {},
     "output_type": "display_data"
    }
   ],
   "source": [
    "# compare basic functions with numerical averages\n",
    "import numpy as np\n",
    "import matplotlib.pyplot as plt\n",
    "%matplotlib widget\n",
    "from scipy.special import erf\n",
    "from ipywidgets import interactive, widgets\n",
    "from IPython.display import display\n",
    "from MFKSGaussClosure import g_avg, lbd_g_avg, rate_avg, lbd2_rate_avg\n",
    "\n",
    "# random samples\n",
    "n_mu = 50\n",
    "n_samp = 10000\n",
    "rndm = np.random.randn(n_mu, n_samp)\n",
    "\n",
    "def g(lbd, mu, sig, kappa, k, eps, lbd_spl, r):\n",
    "    return kappa * np.exp(-k * lbd) + eps * lbd\n",
    "\n",
    "def lambda_g(lbd, mu, sig, kappa, k, eps, lbd_spl, r):\n",
    "    return lbd * g(lbd, mu, sig, kappa, k, eps, lbd_spl, r)\n",
    "\n",
    "def alpha(lbd, mu, sig, kappa, k, eps, lbd_spl, r):\n",
    "    return np.maximum(0, r * (lbd - lbd_spl))\n",
    "\n",
    "def lambda2_alpha(lbd, mu, sig, kappa, k, eps, lbd_spl, r):\n",
    "    return lbd**2 * alpha(lbd, mu, sig, kappa, k, eps, lbd_spl, r)\n",
    "\n",
    "# Function to plot\n",
    "def plot_functions(sig, kappa, k, eps, lbd_spl, r, funcs_to_plot, log_y):\n",
    "    x = np.linspace(0, 10, 5*n_mu)\n",
    "    lbd_range_samp = rndm*sig + x[::5, None]\n",
    "    lbd_range_samp[lbd_range_samp < 0] = np.nan\n",
    "\n",
    "    args = (sig, kappa, k, eps, lbd_spl, r)\n",
    "    \n",
    "    plt.figure(figsize=(10, 6))\n",
    "    if 'g_avg' in funcs_to_plot:\n",
    "        plt.plot(x, g_avg(x, *args), label='g_avg')\n",
    "        plt.scatter(x[::5], np.nanmean(g(lbd_range_samp, x[::5], *args), axis=-1), color='C1', label='g_avg_numeric')\n",
    "    if 'lbd_g_avg' in funcs_to_plot:\n",
    "        plt.plot(x, lbd_g_avg(x, *args), label='lbd_g_avg')\n",
    "        plt.scatter(x[::5], np.nanmean(lambda_g(lbd_range_samp, x[::5], *args), axis=-1), color='C1',label='lbd_g_avg_numeric')\n",
    "    if 'rate_avg' in funcs_to_plot:\n",
    "        plt.plot(x, rate_avg(x, *args), label='rate_avg')\n",
    "        plt.scatter(x[::5], np.nanmean(alpha(lbd_range_samp, x[::5], *args), axis=-1), color='C1',label='rate_avg_numeric')\n",
    "    if 'lbd2_rate_avg' in funcs_to_plot:\n",
    "        plt.plot(x, lbd2_rate_avg(x, *args), label='lbd2_rate_avg')\n",
    "        plt.scatter(x[::5], np.nanmean(lambda2_alpha(lbd_range_samp, x[::5], *args), axis=-1), color='C1',label='lbd2_rate_avg_numeric')\n",
    "    \n",
    "    if log_y:\n",
    "        plt.yscale('log')\n",
    "        \n",
    "    plt.legend()\n",
    "    plt.xlabel('mu')\n",
    "    plt.ylabel('Function Value')\n",
    "    plt.title('Interactive Plot of Functions')\n",
    "    plt.grid(True)\n",
    "    plt.show()\n",
    "\n",
    "# Define sliders and checkboxes\n",
    "sig_slider = widgets.FloatSlider(value=1, min=0.1, max=5, step=0.1, description='sig')\n",
    "kappa_slider = widgets.FloatSlider(value=1, min=0.1, max=5, step=0.1, description='kappa')\n",
    "k_slider = widgets.FloatSlider(value=1, min=0.1, max=5, step=0.1, description='k')\n",
    "eps_slider = widgets.FloatSlider(value=0.0, min=0., max=0.1, step=0.001, description='eps')\n",
    "lbd_spl_slider = widgets.FloatSlider(value=7, min=0.1, max=10, step=0.1, description='lbd_spl')\n",
    "r_slider = widgets.FloatSlider(value=1, min=0.1, max=5, step=0.1, description='r')\n",
    "funcs_checkboxes = widgets.SelectMultiple(\n",
    "    options=['g_avg', 'lbd_g_avg', 'rate_avg', 'lbd2_rate_avg'],\n",
    "    value=['g_avg'],\n",
    "    description='Functions'\n",
    ")\n",
    "log_y_toggle = widgets.ToggleButton(value=False, description='Log y-axis', button_style='')\n",
    "\n",
    "# Create interactive plot\n",
    "interactive_plot = interactive(plot_functions, \n",
    "                               sig=sig_slider, \n",
    "                               kappa=kappa_slider, \n",
    "                               k=k_slider, \n",
    "                               eps=eps_slider, \n",
    "                               lbd_spl=lbd_spl_slider, \n",
    "                               r=r_slider,\n",
    "                               funcs_to_plot=funcs_checkboxes,\n",
    "                               log_y=log_y_toggle)\n",
    "\n",
    "display(interactive_plot)\n"
   ]
  },
  {
   "cell_type": "code",
   "execution_count": 12,
   "metadata": {
    "code_folding": [
     0
    ],
    "jupyter": {
     "source_hidden": true
    },
    "scrolled": true
   },
   "outputs": [
    {
     "data": {
      "application/vnd.jupyter.widget-view+json": {
       "model_id": "5028d7deb5d04da3b7fd7306fcc7887e",
       "version_major": 2,
       "version_minor": 0
      },
      "text/plain": [
       "interactive(children=(FloatSlider(value=0.1, continuous_update=False, description='D_rho:', layout=Layout(widt…"
      ]
     },
     "metadata": {},
     "output_type": "display_data"
    }
   ],
   "source": [
    "# compare basic functions with numerical averages (reparameterized)\n",
    "import numpy as np\n",
    "import matplotlib.pyplot as plt\n",
    "%matplotlib widget\n",
    "from scipy.special import erf\n",
    "from ipywidgets import interactive, widgets, interact, FloatSlider, IntSlider, Layout\n",
    "from IPython.display import display\n",
    "from MFKSGaussClosure import g_avg, lbd_g_avg, rate_avg, lbd2_rate_avg\n",
    "from utils import reparameterize\n",
    "\n",
    "# random samples\n",
    "n_mu = 50\n",
    "n_samp = 10000\n",
    "rndm = np.random.randn(n_mu, n_samp)\n",
    "def g(lbd, mu, sig, kappa, k, eps, lbd_spl, r):\n",
    "    return kappa * np.exp(-k * lbd) + eps * lbd\n",
    "\n",
    "def lambda_g(lbd, mu, sig, kappa, k, eps, lbd_spl, r):\n",
    "    return lbd * g(lbd, mu, sig, kappa, k, eps, lbd_spl, r)\n",
    "\n",
    "def alpha(lbd, mu, sig, kappa, k, eps, lbd_spl, r):\n",
    "    return np.maximum(0, r * (lbd - lbd_spl))\n",
    "\n",
    "def lambda2_alpha(lbd, mu, sig, kappa, k, eps, lbd_spl, r):\n",
    "    return lbd**2 * alpha(lbd, mu, sig, kappa, k, eps, lbd_spl, r)\n",
    "\n",
    "# Function to plot\n",
    "def plot_functions(Drho, Dc, T, epsilon, r, xmax, dx, mu, sig, funcs_to_plot, log_y):\n",
    "\n",
    "    kappa, k, eps, lbd_spl, r = reparameterize(Drho, Dc, T, epsilon, r)\n",
    "\n",
    "    x = np.linspace(0, 10, 5*n_mu)\n",
    "    args = (sig, kappa, k, eps, lbd_spl, r)\n",
    "    lbd_range_samp = rndm*sig + x[::5, None]\n",
    "    lbd_range_samp[lbd_range_samp < 0] = np.nan\n",
    "    \n",
    "    plt.figure(figsize=(10, 6))\n",
    "    plt.axvspan(0, sig, color='k', alpha=0.3, label='mean too small')\n",
    "    if 'g_avg' in funcs_to_plot:\n",
    "        plt.plot(x, g_avg(x, *args), label='g_avg')\n",
    "        plt.plot(x[::5], np.nanmean(g(lbd_range_samp, x[::5],*args), axis=-1), '-o', label='g_avg_numeric')\n",
    "        # plt.plot(x, g_avg_approx(x, *args), label='g_avg_approx')\n",
    "    if 'lbd_g_avg' in funcs_to_plot:\n",
    "        plt.plot(x, lbd_g_avg(x, *args), label='lbd_g_avg')\n",
    "        plt.plot(x[::5], np.nanmean(lambda_g(lbd_range_samp, x[::5],*args), axis=-1), '-o', label='lbd_g_avg_numeric')\n",
    "        # plt.plot(x, lbd_g_avg_approx(x, *args), label='lbd_g_avg_approx')\n",
    "    if 'rate_avg' in funcs_to_plot:\n",
    "        plt.plot(x, rate_avg(x, *args), label='rate_avg')\n",
    "        plt.plot(x[::5], np.nanmean(alpha(lbd_range_samp, x[::5],*args), axis=-1), '-o', label='rate_avg_numeric')\n",
    "        # plt.plot(x, rate_avg_approx(x, *args), label='rate_avg_approx')\n",
    "    if 'lbd2_rate_avg' in funcs_to_plot:\n",
    "        plt.plot(x, lbd2_rate_avg(x, *args), label='lbd2_rate_avg')\n",
    "        plt.plot(x[::5], np.nanmean(lambda2_alpha(lbd_range_samp, x[::5],*args), axis=-1), '-o', label='lbd2_rate_avg_numeric')\n",
    "        # plt.plot(x, lbd2_rate_avg_approx(x, *args), label='lbd2_rate_avg_approx')\n",
    "    \n",
    "    if log_y:\n",
    "        plt.yscale('log')\n",
    "        \n",
    "    plt.legend()\n",
    "    plt.xlabel('mu')\n",
    "    plt.ylabel('Function Value')\n",
    "    plt.title('Interactive Plot of Functions')\n",
    "    plt.grid(True)\n",
    "    plt.show()\n",
    "\n",
    "# Define sliders and checkboxes\n",
    "# Create interactive sliders\n",
    "Drho_slider = FloatSlider(value=0.1, min=0.01, max=1.0, step=0.01, description='D_rho:', layout=Layout(width='500px'), continuous_update=False)\n",
    "Dc_slider = FloatSlider(value=1.0, min=0.1, max=2.0, step=0.1, description='D_c:', layout=Layout(width='500px'), continuous_update=False)\n",
    "T_slider = FloatSlider(value=5.0, min=0.5, max=10.0, step=0.1, description='T:', layout=Layout(width='500px'), continuous_update=False)\n",
    "epsilon_slider = FloatSlider(value=1e-2, min=0, max=1e-1, step=1e-3, description='epsilon:', readout_format='.2e', layout=Layout(width='500px'), continuous_update=False)\n",
    "r_slider = FloatSlider(value=0.04, min=0.001, max=1.0, step=1e-3, description='r:', readout_format='.1e', layout=Layout(width='500px'), continuous_update=False)\n",
    "xmax_slider = IntSlider(value=30, min=10, max=50, step=1, description='xmax:', layout=Layout(width='500px'), continuous_update=False)\n",
    "dx_slider = FloatSlider(value=1e-3, min=1e-4, max=1e-2, step=1e-4, description='dx:', readout_format='.1e', layout=Layout(width='500px'), continuous_update=False)\n",
    "mu_slider = FloatSlider(value=6, min=2.0, max=8.0, step=0.1, description='mu_ini:', layout=Layout(width='500px'), continuous_update=False)\n",
    "sig_slider = FloatSlider(value=1.0, min=0.1, max=3.0, step=0.1, description='sig_ini:', layout=Layout(width='500px'), continuous_update=False)\n",
    "funcs_checkboxes = widgets.SelectMultiple(\n",
    "    options=['g_avg', 'lbd_g_avg', 'rate_avg', 'lbd2_rate_avg'],\n",
    "    value=['g_avg'],\n",
    "    description='Functions'\n",
    ")\n",
    "log_y_toggle = widgets.ToggleButton(value=False, description='Log y-axis', button_style='')\n",
    "\n",
    "# Create interactive plot\n",
    "interactive_plot = interactive(plot_functions, \n",
    "                               Drho=Drho_slider,\n",
    "                               Dc=Dc_slider,\n",
    "                               T=T_slider,\n",
    "                               epsilon=epsilon_slider,\n",
    "                               r=r_slider,\n",
    "                               xmax=xmax_slider,\n",
    "                               dx=dx_slider,\n",
    "                               mu=mu_slider,\n",
    "                               sig=sig_slider,\n",
    "                               funcs_to_plot=funcs_checkboxes,\n",
    "                               log_y=log_y_toggle)\n",
    "\n",
    "display(interactive_plot)\n"
   ]
  },
  {
   "cell_type": "code",
   "execution_count": 6,
   "metadata": {
    "code_folding": [
     0
    ],
    "jupyter": {
     "source_hidden": true
    },
    "scrolled": true
   },
   "outputs": [
    {
     "data": {
      "application/vnd.jupyter.widget-view+json": {
       "model_id": "6627f9ff0ead48c1899212e8fd2c37a6",
       "version_major": 2,
       "version_minor": 0
      },
      "text/plain": [
       "interactive(children=(FloatSlider(value=1.0, continuous_update=False, description='mu', max=40.0, min=0.1), Fl…"
      ]
     },
     "metadata": {},
     "output_type": "display_data"
    }
   ],
   "source": [
    "# Investigate mu, sig  prime and their approximations\n",
    "from MFKSGaussClosure import mu_prime, sig_prime, gauss, erfc\n",
    "plt.close('all')\n",
    "def mu_prime_approx(mu, sig, kappa, k, eps, lbd_spl, r):\n",
    "    args = (mu, sig, kappa, k, eps, lbd_spl, r)\n",
    "    return - mu * (0.5 * rate_avg(*args) + 0 * gauss(mu, sig) * (g_avg(*args) - kappa))\n",
    "\n",
    "def sig_prime_approx(mu, sig, kappa, k, eps, lbd_spl, r):\n",
    "    args = (mu, sig, kappa, k, eps, lbd_spl, r)\n",
    "    mu_tilde = mu - k * sig**2\n",
    "    return kappa * k * sig * np.exp(-k * mu + k**2 * sig**2 / 2) * erfc(- mu_tilde / sig) / erfc(- mu / sig) - eps * sig \\\n",
    "        + sig * gauss(mu, sig) / erfc(- mu / sig) * (eps * mu + kappa * np.exp(-k * mu + k**2 * sig**2 / 2) * erfc(- mu_tilde / sig) / erfc(- mu / sig) - kappa) \\\n",
    "        - 0.5*(mu**2 - sig**2) * mu_prime(*args) / mu / sig\n",
    "\n",
    "def sig_prime_approx2(mu, sig, kappa, k, eps, lbd_spl, r):\n",
    "    args = (mu, sig, kappa, k, eps, lbd_spl, r)\n",
    "    mu_tilde = mu - k * sig**2\n",
    "    return kappa * k * sig * np.exp(-k * mu + k**2 * sig**2 / 2) * erfc(- mu_tilde / sig) - eps * sig \\\n",
    "        + sig * gauss(mu, sig) * (eps * mu * (1 + mu**2/sig**2) / 2 + kappa * np.exp(-k * mu + k**2 * sig**2 / 2) * erfc(- mu_tilde / sig) * (1/2 + k * sig**2 / mu + mu**2/sig**2/2) - kappa * (1 + mu**2/sig**2)/2)\n",
    "\n",
    "def sig_prime_approx3(mu, sig, kappa, k, eps, lbd_spl, r):\n",
    "    args = (mu, sig, kappa, k, eps, lbd_spl, r)\n",
    "    mu_tilde = mu - k * sig**2\n",
    "    return sig * gauss(mu, sig) * (eps * mu * (1 + mu**2/sig**2) / 2 + kappa * np.exp(-k * mu + k**2 * sig**2 / 2) * erfc(- mu_tilde / sig) * (1/2 + k * sig**2 / mu + mu**2/sig**2/2) - kappa * (1 + mu**2/sig**2)/2)\n",
    "\n",
    "def sig_prime_approx4(mu, sig, kappa, k, eps, lbd_spl, r):\n",
    "    args = (mu, sig, kappa, k, eps, lbd_spl, r)\n",
    "    mu_tilde = mu - k * sig**2\n",
    "    return sig * gauss(mu, sig) * (eps * mu * (1 + mu**2/sig**2) / 2 - kappa * (1 + mu**2/sig**2)/2)\n",
    "\n",
    "# Function to plot\n",
    "def plot_functions(mu, sig, kappa, k, eps, lbd_spl, r, funcs_to_plot, log_y):\n",
    "    x = np.linspace(0, 40, 5*n_mu)\n",
    "    y = np.linspace(0, 10, 5*n_mu)\n",
    "    args = (kappa, k, eps, lbd_spl, r)\n",
    "    \n",
    "    plt.figure(figsize=(10, 6))\n",
    "    \n",
    "    if 'mu' in funcs_to_plot:\n",
    "        # plt.axvspan(0, sig, color='k', alpha=0.3, label='mean too small')\n",
    "        plt.plot(x, mu_prime(x, sig, *args), label='mu_prime')\n",
    "        plt.plot(x, sig_prime(x, sig, *args), label='sig_prime')\n",
    "        plt.plot(x, mu_prime_approx(x, sig, *args), label='mu_prime_approx')\n",
    "        plt.plot(x, sig_prime_approx(x, sig, *args), label='sig_prime_approx')\n",
    "        plt.plot(x, sig_prime_approx2(x, sig, *args), label='sig_prime_approx')\n",
    "        plt.plot(x, sig_prime_approx3(x, sig, *args), label='sig_prime_approx')\n",
    "        plt.plot(x, sig_prime_approx4(x, sig, *args), label='sig_prime_approx')\n",
    "\n",
    "    if 'sig' in funcs_to_plot:\n",
    "        # plt.axvspan(mu, np.max(y), color='k', alpha=0.3, label='sig too big')\n",
    "        plt.plot(y, mu_prime(mu, y, *args), label='mu_prime')\n",
    "        plt.plot(y, sig_prime(mu, y, *args), label='sig_prime')\n",
    "        # plt.plot(y, mu_prime_approx(mu, y, *args), label='mu_prime_approx')\n",
    "        # plt.plot(x, lbd_g_avg_approx(x, *args), label='lbd_g_avg_approx')\n",
    "    \n",
    "    if log_y:\n",
    "        plt.yscale('symlog', linthreshy=1e-2)\n",
    "        \n",
    "    plt.legend()\n",
    "    plt.ylabel('Function Value')\n",
    "    plt.title('Interactive Plot of Functions')\n",
    "    plt.grid(True)\n",
    "    plt.tight_layout()\n",
    "    plt.show()\n",
    "\n",
    "# Define sliders and checkboxes\n",
    "mu_slider = widgets.FloatSlider(value=1, min=0.1, max=40, step=0.1, description='mu', continuous_update=False)\n",
    "sig_slider = widgets.FloatSlider(value=1, min=0.1, max=5, step=0.1, description='sig', continuous_update=False)\n",
    "kappa_slider = widgets.FloatSlider(value=1, min=0.1, max=5, step=0.1, description='kappa', continuous_update=False)\n",
    "k_slider = widgets.FloatSlider(value=1, min=0.1, max=5, step=0.1, description='k', continuous_update=False)\n",
    "eps_slider = widgets.FloatSlider(value=0.0, min=0., max=0.1, step=0.001, description='eps', continuous_update=False)\n",
    "lbd_spl_slider = widgets.FloatSlider(value=7, min=0.1, max=10, step=0.1, description='lbd_spl', continuous_update=False)\n",
    "r_slider = widgets.FloatSlider(value=1, min=0.0, max=5, step=0.1, description='r', continuous_update=False)\n",
    "funcs_checkboxes = widgets.SelectMultiple(\n",
    "    options=['mu', 'sig'],\n",
    "    value=['mu'],\n",
    "    description='Functions'\n",
    ")\n",
    "log_y_toggle = widgets.ToggleButton(value=False, description='SymLog y-axis', button_style='')\n",
    "\n",
    "# Create interactive plot\n",
    "interactive_plot = interactive(plot_functions, \n",
    "                               mu=mu_slider, \n",
    "                               sig=sig_slider, \n",
    "                               kappa=kappa_slider, \n",
    "                               k=k_slider, \n",
    "                               eps=eps_slider, \n",
    "                               lbd_spl=lbd_spl_slider, \n",
    "                               r=r_slider, \n",
    "                               funcs_to_plot=funcs_checkboxes,\n",
    "                               log_y=log_y_toggle)\n",
    "\n",
    "display(interactive_plot)"
   ]
  },
  {
   "cell_type": "code",
   "execution_count": 13,
   "metadata": {
    "code_folding": [
     0
    ],
    "jupyter": {
     "source_hidden": true
    },
    "scrolled": true
   },
   "outputs": [
    {
     "data": {
      "application/vnd.jupyter.widget-view+json": {
       "model_id": "bc6d002513a240a18208ac9e8c916312",
       "version_major": 2,
       "version_minor": 0
      },
      "text/plain": [
       "interactive(children=(FloatSlider(value=0.1, continuous_update=False, description='D_rho:', layout=Layout(widt…"
      ]
     },
     "metadata": {},
     "output_type": "display_data"
    }
   ],
   "source": [
    "# Investigate mu, sig  prime and their approximations (reparametereized)\n",
    "from ipywidgets import Layout, IntSlider\n",
    "from utils import reparameterize\n",
    "\n",
    "def plot_functions(Drho, Dc, T, epsilon, r, xmax, dx, mu, sig, funcs_to_plot, log_y):\n",
    "    x = np.linspace(0, xmax, 5*n_mu)\n",
    "    y = np.linspace(0, xmax/3, 5*n_mu)\n",
    "    \n",
    "    kappa, k, eps, lbd_spl, r = reparameterize(Drho, Dc, T, epsilon, r)\n",
    "    \n",
    "    args = (kappa, k, eps, lbd_spl, r)\n",
    "    \n",
    "    plt.figure(figsize=(10, 6))\n",
    "    \n",
    "    if 'mu' in funcs_to_plot:\n",
    "        plt.axvspan(0, sig, color='k', alpha=0.3, label='mean too small')\n",
    "        plt.plot(x, mu_prime(x, sig, *args), label='mu_prime')\n",
    "        plt.plot(x, sig_prime(x, sig, *args), label='sig_prime')\n",
    "        plt.plot(x, sig * k * kappa * np.exp(-k * x) - sig * eps, 'k--', label='- sig g prime')\n",
    "        plt.plot(x, sig * k * kappa * np.exp(-k * x) - sig * eps - 0.5 * (sig**2 - x**2) *  kappa * (np.exp(-k * x) * (1 + 0.5 * sig**2 * k**2) - 1) * gauss(x, sig) / sig, 'k--', label='- sig g prime new')\n",
    "        plt.plot(x, - x * kappa * (np.exp(-k * x) - 1) * gauss(x, sig) , 'r--', label='mu prime approx')\n",
    "        # plt.vlines([lbd_spl_eps(epsilon)], [-1], [1], 'k', label='lambda split')\n",
    "        plt.axvspan(min(x[sig * k * kappa * np.exp(-k * x) - sig * eps < 0]), lbd_spl_eps(epsilon), color='r', alpha=0.1, label='stable')\n",
    "        # plt.plot(x, mu_prime_approx(x, sig, *args), label='mu_prime_approx')\n",
    "        # plt.plot(x, g_avg_approx(x, *args), label='g_avg_approx')\n",
    "    if 'sig' in funcs_to_plot:\n",
    "        plt.axvspan(mu, np.max(y), color='k', alpha=0.3, label='sig too big')\n",
    "        plt.plot(y, sig_prime(mu, y, *args), label='sig_prime')\n",
    "        plt.plot(y, mu_prime(mu, y, *args), label='mu_prime')\n",
    "        # plt.plot(y, mu_prime_approx(mu, y, *args), label='mu_prime_approx')\n",
    "        # plt.plot(x, lbd_g_avg_approx(x, *args), label='lbd_g_avg_approx')\n",
    "    \n",
    "    if log_y:\n",
    "        plt.yscale('symlog', linthreshy=1e-2)\n",
    "        \n",
    "    plt.legend()\n",
    "    plt.ylabel('Function Value')\n",
    "    plt.title('Interactive Plot of Functions')\n",
    "    plt.grid(True)\n",
    "    plt.show()\n",
    "\n",
    "# Define sliders and checkboxes\n",
    "Drho_slider = FloatSlider(value=0.1, min=0.01, max=1.0, step=0.01, description='D_rho:', layout=Layout(width='500px'), continuous_update=False)\n",
    "Dc_slider = FloatSlider(value=1.0, min=0.1, max=2.0, step=0.1, description='D_c:', layout=Layout(width='500px'), continuous_update=False)\n",
    "T_slider = FloatSlider(value=5.0, min=0.5, max=10.0, step=0.1, description='T:', layout=Layout(width='500px'), continuous_update=False)\n",
    "epsilon_slider = FloatSlider(value=1e-3, min=0, max=1e-1, step=1e-4, description='epsilon:', readout_format='.2e', layout=Layout(width='500px'), continuous_update=False)\n",
    "r_slider = FloatSlider(value=0.04, min=0.001, max=1.0, step=1e-3, description='r:', readout_format='.1e', layout=Layout(width='500px'), continuous_update=False)\n",
    "xmax_slider = IntSlider(value=30, min=10, max=50, step=1, description='xmax:', layout=Layout(width='500px'), continuous_update=False)\n",
    "dx_slider = FloatSlider(value=1e-3, min=1e-4, max=1e-2, step=1e-4, description='dx:', readout_format='.1e', layout=Layout(width='500px'), continuous_update=False)\n",
    "mu_slider = FloatSlider(value=6, min=2.0, max=8.0, step=0.1, description='mu:', layout=Layout(width='500px'), continuous_update=False)\n",
    "sig_slider = FloatSlider(value=0.2, min=0.01, max=4.0, step=0.01, description='sig:', layout=Layout(width='500px'), continuous_update=False)\n",
    "funcs_checkboxes = widgets.SelectMultiple(\n",
    "    options=['mu', 'sig'],\n",
    "    value=['mu'],\n",
    "    description='Functions'\n",
    ")\n",
    "log_y_toggle = widgets.ToggleButton(value=False, description='SymLog y-axis', button_style='')\n",
    "\n",
    "# Create interactive plot\n",
    "interactive_plot = interactive(plot_functions, \n",
    "                               Drho=Drho_slider,\n",
    "                               Dc=Dc_slider,\n",
    "                               T=T_slider,\n",
    "                               epsilon=epsilon_slider,\n",
    "                               r=r_slider,\n",
    "                               xmax=xmax_slider,\n",
    "                               dx=dx_slider,\n",
    "                               mu=mu_slider,\n",
    "                               sig=sig_slider,\n",
    "                               funcs_to_plot=funcs_checkboxes,\n",
    "                               log_y=log_y_toggle)\n",
    "\n",
    "display(interactive_plot)"
   ]
  },
  {
   "cell_type": "code",
   "execution_count": 4,
   "metadata": {
    "code_folding": [
     0
    ],
    "collapsed": true,
    "jupyter": {
     "outputs_hidden": true,
     "source_hidden": true
    }
   },
   "outputs": [
    {
     "data": {
      "application/vnd.jupyter.widget-view+json": {
       "model_id": "bb3dc8a940444deb8a95470b33bf5658",
       "version_major": 2,
       "version_minor": 0
      },
      "image/png": "[encoded data removed]",
      "text/html": [
       "\n",
       "            <div style=\"display: inline-block;\">\n",
       "                <div class=\"jupyter-widgets widget-label\" style=\"text-align: center;\">\n",
       "                    Figure\n",
       "                </div>\n",
       "                <img src='data:image/png;base64,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' width=640.0/>\n",
       "            </div>\n",
       "        "
      ],
      "text/plain": [
       "Canvas(toolbar=Toolbar(toolitems=[('Home', 'Reset original view', 'home', 'home'), ('Back', 'Back to previous …"
      ]
     },
     "metadata": {},
     "output_type": "display_data"
    }
   ],
   "source": [
    "# showcase utils.py\n",
    "import numpy as np \n",
    "import matplotlib.pyplot as plt\n",
    "%matplotlib widget\n",
    "from utils import flexible_scatter, find_roots_rich\n",
    "test_fct = lambda x, a, b: np.sin(x) + 1 - np.exp(-a*x)\n",
    "x_array = np.linspace(0, 30, 500)\n",
    "a_array = np.linspace(0, 3)\n",
    "fig, ax = plt.subplots()\n",
    "flexible_scatter(fig, ax, a_array, [find_roots_rich(test_fct, x_array, (a_array[i], 3)) for i in range(50)], color='r')\n",
    "flexible_scatter(fig, ax, [find_roots_rich(test_fct, x_array, (a_array[i], 3)) for i in range(50)], a_array, color='g')\n",
    "flexible_scatter(fig, ax, a_array, a_array, color='b')\n"
   ]
  },
  {
   "cell_type": "code",
   "execution_count": 18,
   "metadata": {
    "code_folding": [
     0
    ],
    "jupyter": {
     "source_hidden": true
    },
    "scrolled": true
   },
   "outputs": [
    {
     "name": "stdout",
     "output_type": "stream",
     "text": [
      "Warning: Cannot change to a different GUI toolkit: widget. Using notebook instead.\n"
     ]
    },
    {
     "data": {
      "application/vnd.jupyter.widget-view+json": {
       "model_id": "5c5a2750f7e047d59bf32a85d40a6a76",
       "version_major": 2,
       "version_minor": 0
      },
      "text/plain": [
       "interactive(children=(FloatSlider(value=1.0, description='kappa', max=5.0, min=0.1), FloatSlider(value=1.0, de…"
      ]
     },
     "metadata": {},
     "output_type": "display_data"
    }
   ],
   "source": [
    "# compare analytic derivatives with numerical derivatives\n",
    "import numpy as np\n",
    "import matplotlib.pyplot as plt\n",
    "%matplotlib widget\n",
    "from ipywidgets import interactive, widgets\n",
    "from IPython.display import display\n",
    "from MFKSGaussClosure import *#gauss_spl, erfc_spl, erfc_til, g_avg, lbd_g_avg, rate_avg, lbd2_rate_avg, f1, f2, dmu_gauss_spl, dmu_erfc_spl, dmu_erfc_til, dmu_g_avg, dmu_lbd_g_avg, dmu_rate_avg, dmu_lbd2_rate_avg, dmu_f1, dmu_f2, dsig_gauss_spl, dsig_erfc_spl, dsig_erfc_til, dsig_g_avg, dsig_lbd_g_avg, dsig_rate_avg, dsig_lbd2_rate_avg, dsig_f1, dsig_f2\n",
    "\n",
    "mus = np.linspace(0, 20, 10000)\n",
    "sigs = np.linspace(0.001, 12, 5000)\n",
    "\n",
    "funcs_array = [gauss_spl, erfc_spl, erfc_til, g_avg, lbd_g_avg, rate_avg, lbd2_rate_avg, f1, f2]\n",
    "dmu_funcs_array = [dmu_gauss_spl, dmu_erfc_spl, dmu_erfc_til, dmu_g_avg, dmu_lbd_g_avg, dmu_rate_avg, dmu_lbd2_rate_avg, dmu_f1, dmu_f2]\n",
    "dsig_funcs_array = [dsig_gauss_spl, dsig_erfc_spl, dsig_erfc_til, dsig_g_avg, dsig_lbd_g_avg, dsig_rate_avg, dsig_lbd2_rate_avg, dsig_f1, dsig_f2]\n",
    "\n",
    "# Function to plot\n",
    "def plot_functions(kappa, k, eps, lbd_spl, r, mu0, sig0, log_y):\n",
    "    args = (kappa, k, eps, lbd_spl, r)\n",
    "\n",
    "    plt.close('all')\n",
    "    plt.figure(figsize=(10, 6))\n",
    "    for i in range(len(funcs_array)):\n",
    "        func = funcs_array[i]\n",
    "        dmu_func = dmu_funcs_array[i]\n",
    "        dsig_func = dsig_funcs_array[i]\n",
    "        plt.plot(mus, np.abs((np.gradient(func(mus, sig0, *args), mus) - dmu_func(mus, sig0, *args))/np.gradient(func(mus, sig0, *args), mus)), label=f'{dmu_func.__name__}(mu)')\n",
    "        plt.plot(sigs, np.abs((np.gradient(func(mu0, sigs, *args), sigs) - dsig_func(mu0, sigs, *args))/np.gradient(func(mu0, sigs, *args), sigs)), '--',label=f'{dsig_func.__name__}(sig)')\n",
    "        \n",
    "        # plt.scatter(mus, np.gradient(func(mus, sig0, *args), mus), alpha=0.2, label=f'{i} mu')\n",
    "        # plt.scatter(sigs, np.gradient(func(mu0, sigs, *args), sigs), alpha=0.2, label=f'{i} sig')\n",
    "        # plt.plot(mus, dmu_func(mus, sig0, *args), label=f'{i} mu')\n",
    "        # plt.plot(sigs, dsig_func(mu0, sigs, *args), label=f'{i} sig')\n",
    "        \n",
    "        # plt.plot(mus, np.abs((np.gradient(func(mus, sig0, *args), mus) - dmu_func(mus, sig0, *args))), label=f'{i} mu')\n",
    "        # plt.plot(sigs, np.abs((np.gradient(func(mu0, sigs, *args), sigs) - dsig_func(mu0, sigs, *args))), '--',label=f'{i} sig')\n",
    "    plt.vlines([np.sqrt(mu0/k)], [0], [1], 'k', label='coarsening sigma')\n",
    "    if log_y:\n",
    "        plt.yscale('log')\n",
    "    plt.ylim(1e-8, 1e0)\n",
    "    plt.title('Relative errrors of various functions')\n",
    "    plt.legend()\n",
    "    plt.grid()\n",
    "    plt.show()\n",
    "\n",
    "# Define sliders and checkboxes\n",
    "kappa_slider = widgets.FloatSlider(value=1, min=0.1, max=5, step=0.1, description='kappa')\n",
    "k_slider = widgets.FloatSlider(value=1, min=0.1, max=5, step=0.1, description='k')\n",
    "eps_slider = widgets.FloatSlider(value=0.0, min=0., max=0.1, step=0.001, description='eps')\n",
    "lbd_spl_slider = widgets.FloatSlider(value=7, min=0.1, max=10, step=0.1, description='lbd_spl')\n",
    "r_slider = widgets.FloatSlider(value=1, min=0.1, max=5, step=0.1, description='r')\n",
    "mu_slider = widgets.FloatSlider(value=4, min=0.1, max=50, step=0.1, description='mu')\n",
    "sig_slider = widgets.FloatSlider(value=3, min=0.1, max=12, step=0.1, description='sig')\n",
    "log_y_toggle = widgets.ToggleButton(value=True, description='Log y-axis', button_style='')\n",
    "\n",
    "# Create interactive plot\n",
    "interactive_plot = interactive(plot_functions, \n",
    "                               sig=sig_slider, \n",
    "                               kappa=kappa_slider, \n",
    "                               k=k_slider, \n",
    "                               eps=eps_slider, \n",
    "                               lbd_spl=lbd_spl_slider, \n",
    "                               r=r_slider,\n",
    "                               mu0=mu_slider,\n",
    "                               sig0=sig_slider,\n",
    "                               log_y=log_y_toggle)\n",
    "\n",
    "display(interactive_plot)\n",
    "\n"
   ]
  },
  {
   "cell_type": "code",
   "execution_count": null,
   "metadata": {
    "jupyter": {
     "source_hidden": true
    }
   },
   "outputs": [],
   "source": []
  },
  {
   "cell_type": "code",
   "execution_count": null,
   "metadata": {
    "jupyter": {
     "source_hidden": true
    }
   },
   "outputs": [],
   "source": []
  },
  {
   "cell_type": "code",
   "execution_count": 43,
   "metadata": {
    "code_folding": [
     0
    ],
    "jupyter": {
     "source_hidden": true
    }
   },
   "outputs": [],
   "source": [
    "# approx functions (old)\n",
    "from MFKSGaussClosure import gauss, erfc\n",
    "def g_avg_approx(mu, sig, kappa, k, eps, lbd_spl, r):\n",
    "    mu_tilde = mu - k * sig**2\n",
    "    return kappa * np.exp((mu_tilde**2 - mu**2) / 2 / sig**2) + eps * mu\n",
    "\n",
    "def lbd_g_avg_approx(mu, sig, kappa, k, eps, lbd_spl, r):\n",
    "    mu_tilde = mu - k * sig**2\n",
    "    return (kappa * np.exp((mu_tilde**2 - mu**2) / 2 / sig**2) * (sig**2 * gauss(mu_tilde, sig) + mu_tilde) +\n",
    "            eps * (sig**2 + mu**2))\n",
    "\n",
    "def rate_avg_approx(mu, sig, kappa, k, eps, lbd_spl, r):\n",
    "    # return r * sig / np.sqrt(2 * np.pi) - r / 2 * (lbd_spl - mu) + r / np.sqrt(2 * np.pi) * (lbd_spl - mu)**2 / 2 / sig\n",
    "    return r * np.maximum(mu - lbd_spl, 0)\n",
    "\n",
    "    # return r * (np.maximum(0, -(lbd_spl - mu)) + np.exp(-np.sqrt(2*np.pi*(lbd_spl - mu)**2)/2) / np.sqrt(2 * np.pi)) \n",
    "\n",
    "def lbd2_rate_avg_approx(mu, sig, kappa, k, eps, lbd_spl, r):\n",
    "    return r * (sig**2 * (2 * sig**2 + mu**2) * gauss(lbd_spl - mu, sig) + \n",
    "                (mu**2 * (mu - lbd_spl) + sig**2 * (3 * mu - lbd_spl)) * erfc((lbd_spl - mu) / sig))\n"
   ]
  },
  {
   "cell_type": "code",
   "execution_count": 3,
   "metadata": {
    "code_folding": [
     1
    ],
    "jupyter": {
     "source_hidden": true
    }
   },
   "outputs": [],
   "source": [
    "import numpy as np\n",
    "import matplotlib.pyplot as plt\n",
    "%matplotlib widget\n",
    "from matplotlib.colors import LogNorm, ListedColormap\n",
    "def create_transparent_cmap(cmap_name, alpha_vals):\n",
    "    base_cmap = plt.get_cmap(cmap_name)\n",
    "    base_colors = base_cmap(np.arange(base_cmap.N))\n",
    "\n",
    "    new_colors = np.zeros_like(base_colors)\n",
    "    for i, alpha in enumerate(alpha_vals):\n",
    "        new_colors[i, :] = np.append(base_colors[i, :3], alpha)\n",
    "    return ListedColormap(new_colors)\n",
    "\n",
    "# Define alpha values for transparency (0 to 1)\n",
    "alpha_vals = np.linspace(0, 1, 256)\n",
    "\n",
    "# Create custom colormap with transparency\n",
    "transparent_cmap = create_transparent_cmap('Blues', alpha_vals)"
   ]
  },
  {
   "cell_type": "code",
   "execution_count": 8,
   "metadata": {
    "code_folding": [
     0
    ],
    "jupyter": {
     "source_hidden": true
    }
   },
   "outputs": [
    {
     "data": {
      "application/vnd.jupyter.widget-view+json": {
       "model_id": "51f897914f0546919b3f7946c4b0e610",
       "version_major": 2,
       "version_minor": 0
      },
      "text/plain": [
       "interactive(children=(FloatSlider(value=1.0, continuous_update=False, description='kappa', max=5.0, min=0.1), …"
      ]
     },
     "metadata": {},
     "output_type": "display_data"
    }
   ],
   "source": [
    "# terms by order of magnitude\n",
    "import numpy as np\n",
    "import matplotlib.pyplot as plt\n",
    "from matplotlib.colors import LogNorm, SymLogNorm\n",
    "%matplotlib widget\n",
    "from matplotlib.widgets import Slider\n",
    "from ipywidgets import interact, FloatSlider, widgets, interactive\n",
    "from MFKSGaussClosure import mu_sig_prime, mu_prime, sig_prime, erfc, gauss\n",
    "from scipy.integrate import solve_ivp\n",
    "\n",
    "def sig_term1(mu, sig, kappa, k, eps, lbd_spl, r):\n",
    "    eps = 0.0\n",
    "    lbd_spl = np.inf\n",
    "    r = 0.0\n",
    "    args = (mu, sig, kappa, k, eps, lbd_spl, r)\n",
    "    mu_tilde = mu - k * sig**2\n",
    "    return kappa * k * sig * np.exp(-k * mu + k**2 * sig**2 / 2) * erfc(- mu_tilde / sig) - eps * sig\n",
    "\n",
    "def sig_term2(mu, sig, kappa, k, eps, lbd_spl, r):\n",
    "    eps = 0.0\n",
    "    lbd_spl = np.inf\n",
    "    r = 0.0\n",
    "    args = (mu, sig, kappa, k, eps, lbd_spl, r)\n",
    "    mu_tilde = mu - k * sig**2\n",
    "    return sig * gauss(*args) * (eps * mu * (1 + mu**2/sig**2) / 2 + kappa * np.exp(-k * mu + k**2 * sig**2 / 2) * erfc(- mu_tilde / sig) * (1/2 + k * sig**2 / mu + mu**2/sig**2/2) - kappa * (1 + mu**2/sig**2)/2)\n",
    "\n",
    "def sig_term_eps(mu, sig, kappa, k, eps, lbd_spl, r):\n",
    "    lbd_spl = np.inf\n",
    "    r = 0.0\n",
    "    args = (mu, sig, kappa, k, eps, lbd_spl, r)\n",
    "    mu_tilde = mu - k * sig**2\n",
    "    return - eps * sig + sig * gauss(*args) * (eps * mu * (1 + mu**2/sig**2) / 2)\n",
    "\n",
    "# def sig_term_r1(mu, sig, kappa, k, eps, lbd_spl, r):\n",
    "#     eps = 0.0\n",
    "#     args = (mu, sig, kappa, k, eps, lbd_spl, r)\n",
    "#     res = - 1/8 * lbd2_rate_avg(*args)\n",
    "#     return res / sig\n",
    "def sig_term_r1(mu, sig, kappa, k, eps, lbd_spl, r):\n",
    "    eps = 0.0\n",
    "    args = (mu, sig, kappa, k, eps, lbd_spl, r)\n",
    "    res1 = ((mu**2 + sig**2) * rate_avg(mu, sig, kappa, k, eps, lbd_spl, r) + \n",
    "            2 * r * mu * sig**2 * erfc((lbd_spl - mu) / sig) / erfc(- mu / sig) + \n",
    "            r * sig**4 * gauss(lbd_spl - mu, sig) / erfc(- mu / sig) )\n",
    "    res2 = r * sig**2 * gauss(lbd_spl - mu, sig) / erfc(- mu / sig) - r * (lbd_spl - mu) * erfc((lbd_spl - mu) / sig) / erfc(- mu / sig)\n",
    "    res3 = 0.25 * mu**2 * rate_avg(*args) / sig\n",
    "    return - res1 / 8 / sig - res2 * sig / 4 + res3\n",
    "\n",
    "# def sig_term_r2(mu, sig, kappa, k, eps, lbd_spl, r):\n",
    "#     eps = 0.0\n",
    "#     args = (mu, sig, kappa, k, eps, lbd_spl, r)\n",
    "#     res = 0.5 * (mu**2 - sig**2) * (0.5 * rate_avg(*args))\n",
    "#     return res / sig\n",
    "    \n",
    "def sig_term_r2(mu, sig, kappa, k, eps, lbd_spl, r):\n",
    "    eps = 0.0\n",
    "    args = (mu, sig, kappa, k, eps, lbd_spl, r)\n",
    "    res = 0.25 * mu**2 * rate_avg(*args)\n",
    "    return res / sig\n",
    "    \n",
    "\n",
    "\n",
    "\n",
    "def plot_functions(kappa, k, eps, lbd_spl, r, funcs_to_plot):\n",
    "    # Create a grid of points\n",
    "    x = np.linspace(0, 100, 1000)\n",
    "    y = np.linspace(0.001, 10, 1000)\n",
    "    X, Y = np.meshgrid(x, y)\n",
    "    mask = X - 2*Y < 0\n",
    "\n",
    "    args = (kappa, k, eps, lbd_spl, r)\n",
    "\n",
    "    plt.close('all')\n",
    "    plt.figure(figsize=(10, 6))\n",
    "\n",
    "    mynorm = SymLogNorm(1e-7, vmin=-1e1, vmax=1e1)\n",
    "    if 'sig_term1' in funcs_to_plot:\n",
    "        strm = plt.pcolormesh(x, y, sig_term1(X, Y, *args), cmap='bwr', norm=mynorm)\n",
    "    if 'sig_term2' in funcs_to_plot:\n",
    "        strm = plt.pcolormesh(x, y, sig_term2(X, Y, *args), cmap='bwr', norm=mynorm)\n",
    "    if 'sig_term_eps' in funcs_to_plot:\n",
    "        strm = plt.pcolormesh(x, y, sig_term_eps(X, Y, *args), cmap='bwr', norm=mynorm)\n",
    "    if 'sig_term_r1' in funcs_to_plot:\n",
    "        strm = plt.pcolormesh(x, y, sig_term_r1(X, Y, *args), cmap='bwr', norm=mynorm)\n",
    "    if 'sig_term_r2' in funcs_to_plot:\n",
    "        strm = plt.pcolormesh(x, y, sig_term_r2(X, Y, *args), cmap='bwr', norm=mynorm)\n",
    "        \n",
    "    plt.colorbar(strm)\n",
    "    plt.xlim(np.min(x),np.max(x))\n",
    "    plt.ylim(np.min(y),np.max(y))\n",
    "    plt.xlabel('mu')\n",
    "    plt.ylabel('sig')\n",
    "    plt.grid()\n",
    "    plt.tight_layout()\n",
    "    plt.show()\n",
    "\n",
    "# Define sliders and checkboxes\n",
    "kappa_slider = widgets.FloatSlider(value=1, min=0.1, max=5, step=0.1, description='kappa', continuous_update=False)\n",
    "k_slider = widgets.FloatSlider(value=1, min=0.1, max=5, step=0.1, description='k', continuous_update=False)\n",
    "eps_slider = widgets.FloatSlider(value=1e-6, min=0., max=1e-2, step=1e-6, readout_format='.1e',description='eps', continuous_update=False)\n",
    "lbd_spl_slider = widgets.FloatSlider(value=50, min=0.1, max=100, step=1, description='lbd_spl', continuous_update=False)\n",
    "r_slider = widgets.FloatSlider(value=1, min=0.0, max=5, step=0.1, description='r', continuous_update=False)\n",
    "funcs_checkboxes = widgets.SelectMultiple(\n",
    "    options=['sig_term1', 'sig_term2', 'sig_term_eps', 'sig_term_r1', 'sig_term_r2'],\n",
    "    value=['sig_term1'],\n",
    "    description='Functions'\n",
    ")\n",
    "\n",
    "# Create interactive plot\n",
    "interactive_plot = interactive(plot_functions, \n",
    "                               kappa=kappa_slider, \n",
    "                               k=k_slider, \n",
    "                               eps=eps_slider, \n",
    "                               lbd_spl=lbd_spl_slider, \n",
    "                               r=r_slider, \n",
    "                               funcs_to_plot=funcs_checkboxes\n",
    "            )\n",
    "\n",
    "display(interactive_plot)\n"
   ]
  },
  {
   "cell_type": "code",
   "execution_count": null,
   "metadata": {
    "jupyter": {
     "source_hidden": true
    }
   },
   "outputs": [],
   "source": []
  },
  {
   "cell_type": "code",
   "execution_count": null,
   "metadata": {
    "jupyter": {
     "source_hidden": true
    }
   },
   "outputs": [],
   "source": []
  },
  {
   "cell_type": "code",
   "execution_count": null,
   "metadata": {
    "jupyter": {
     "source_hidden": true
    }
   },
   "outputs": [],
   "source": []
  },
  {
   "cell_type": "code",
   "execution_count": null,
   "metadata": {
    "jupyter": {
     "source_hidden": true
    }
   },
   "outputs": [],
   "source": []
  },
  {
   "cell_type": "code",
   "execution_count": null,
   "metadata": {
    "jupyter": {
     "source_hidden": true
    }
   },
   "outputs": [],
   "source": []
  }
 ],
 "metadata": {
  "kernelspec": {
   "display_name": "Python 3 (ipykernel)",
   "language": "python",
   "name": "python3"
  },
  "language_info": {
   "codemirror_mode": {
    "name": "ipython",
    "version": 3
   },
   "file_extension": ".py",
   "mimetype": "text/x-python",
   "name": "python",
   "nbconvert_exporter": "python",
   "pygments_lexer": "ipython3",
   "version": "3.9.18"
  },
  "latex_envs": {
   "LaTeX_envs_menu_present": true,
   "autoclose": true,
   "autocomplete": false,
   "bibliofile": "biblio.bib",
   "cite_by": "apalike",
   "current_citInitial": 1,
   "eqLabelWithNumbers": true,
   "eqNumInitial": 1,
   "hotkeys": {
    "equation": "Ctrl-E",
    "itemize": "Ctrl-I"
   },
   "labels_anchors": false,
   "latex_user_defs": false,
   "report_style_numbering": false,
   "user_envs_cfg": false
  },
  "toc": {
   "base_numbering": 1,
   "nav_menu": {},
   "number_sections": true,
   "sideBar": true,
   "skip_h1_title": false,
   "title_cell": "Table of Contents",
   "title_sidebar": "Contents",
   "toc_cell": false,
   "toc_position": {},
   "toc_section_display": true,
   "toc_window_display": false
  },
  "varInspector": {
   "cols": {
    "lenName": 16,
    "lenType": 16,
    "lenVar": 40
   },
   "kernels_config": {
    "python": {
     "delete_cmd_postfix": "",
     "delete_cmd_prefix": "del ",
     "library": "var_list.py",
     "varRefreshCmd": "print(var_dic_list())"
    },
    "r": {
     "delete_cmd_postfix": ") ",
     "delete_cmd_prefix": "rm(",
     "library": "var_list.r",
     "varRefreshCmd": "cat(var_dic_list()) "
    }
   },
   "types_to_exclude": [
    "module",
    "function",
    "builtin_function_or_method",
    "instance",
    "_Feature"
   ],
   "window_display": false
  }
 },
 "nbformat": 4,
 "nbformat_minor": 4
}
