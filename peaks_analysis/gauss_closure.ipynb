{
 "cells": [
  {
   "cell_type": "code",
   "execution_count": 7,
   "metadata": {
    "code_folding": [
     0
    ],
    "jupyter": {
     "source_hidden": true
    }
   },
   "outputs": [
    {
     "data": {
      "application/vnd.jupyter.widget-view+json": {
       "model_id": "18eb19d67c084dda9e428e901cd8a3a9",
       "version_major": 2,
       "version_minor": 0
      },
      "text/plain": [
       "interactive(children=(FloatSlider(value=1.2, continuous_update=False, description='kappa', max=4.0), FloatSlid…"
      ]
     },
     "metadata": {},
     "output_type": "display_data"
    },
    {
     "data": {
      "text/plain": [
       "<function __main__.plot_vector_field(kappa, k, eps, lbd_spl, r)>"
      ]
     },
     "execution_count": 7,
     "metadata": {},
     "output_type": "execute_result"
    }
   ],
   "source": [
    "# vanilla gaussian streamline\n",
    "import numpy as np\n",
    "import matplotlib.pyplot as plt\n",
    "from matplotlib.colors import LogNorm\n",
    "%matplotlib widget\n",
    "from matplotlib.widgets import Slider\n",
    "from ipywidgets import interact, FloatSlider\n",
    "from MFKSGaussClosure import mu_sig_prime, mu_prime, sig_prime\n",
    "from scipy.integrate import solve_ivp\n",
    "\n",
    "# Function to create the streamline plot\n",
    "def plot_vector_field(kappa, k, eps, lbd_spl, r):\n",
    "    # Create a grid of points\n",
    "    x = np.linspace(0, 100, 100)\n",
    "    y = np.linspace(0.001, 10.5, 100)\n",
    "    X, Y = np.meshgrid(x, y)\n",
    "    U, V = mu_sig_prime((X, Y), kappa, k, eps, lbd_spl, r)\n",
    "    # mask = X - 2*Y < 0\n",
    "    # U[mask] = V[mask] = np.nan   \n",
    "\n",
    "    fig = plt.figure(figsize=(10, 8))\n",
    "    strm = plt.streamplot(X, Y, U, V, color=np.sqrt(U**2 + V**2), density=1.6, cmap='winter', norm=LogNorm(1e-7, 1e-1))\n",
    "\n",
    "    fig.colorbar(strm.lines)\n",
    "    plt.xlim(np.min(x),np.max(x))\n",
    "    plt.ylim(np.min(y),np.max(y))\n",
    "    plt.xlabel('mu')\n",
    "    plt.ylabel('sig')\n",
    "    plt.title('Streamline plot of the vector field')\n",
    "    plt.grid()\n",
    "    plt.tight_layout()\n",
    "    plt.show()\n",
    "\n",
    "# Interactive sliders\n",
    "interact(plot_vector_field,\n",
    "         kappa=FloatSlider(min=0, max=4, step=0.1, value=1.2, description='kappa', continuous_update=False),\n",
    "         k=FloatSlider(min=0, max=4, step=0.1, value=1, description='k', continuous_update=False),\n",
    "         eps=FloatSlider(min=0, max=1e-6, step=1e-8, value=0, description='eps', continuous_update=False, readout_format='.1e'),\n",
    "         lbd_spl=FloatSlider(min=2, max=100, step=1, value=50, description='lbd_spl', continuous_update=False),\n",
    "         r=FloatSlider(min=0, max=1e-1, step=1e-5, value=1e-3, description='r', continuous_update=False, readout_format='.1e'))\n",
    "\n",
    "\n"
   ]
  },
  {
   "cell_type": "code",
   "execution_count": 2,
   "metadata": {
    "code_folding": []
   },
   "outputs": [
    {
     "data": {
      "application/vnd.jupyter.widget-view+json": {
       "model_id": "7b1df0ccb3204da28fbfb909ed8899fa",
       "version_major": 2,
       "version_minor": 0
      },
      "text/plain": [
       "interactive(children=(FloatSlider(value=0.1, continuous_update=False, description='D_rho:', layout=Layout(widt…"
      ]
     },
     "metadata": {},
     "output_type": "display_data"
    },
    {
     "data": {
      "text/plain": [
       "<function __main__.plot_vector_field(Drho, Dc, T, epsilon, lbd_spl, r)>"
      ]
     },
     "metadata": {},
     "output_type": "display_data"
    },
    {
     "name": "stdout",
     "output_type": "stream",
     "text": [
      "here\n",
      "here\n",
      "here\n"
     ]
    },
    {
     "name": "stdout",
     "output_type": "stream",
     "text": [
      "here\n",
      "here\n"
     ]
    }
   ],
   "source": [
    "# streamlines, nullclines & their approximations - interactive \n",
    "import numpy as np\n",
    "import matplotlib.pyplot as plt\n",
    "%matplotlib widget\n",
    "from matplotlib.colors import LogNorm\n",
    "from matplotlib.widgets import Slider\n",
    "from ipywidgets import interact, FloatSlider, Layout, widgets\n",
    "from MFKSGaussClosure import mu_sig_prime, mu_prime, sig_prime, lbd2_rate_avg, rate_avg, erfc, gauss\n",
    "from scipy.integrate import solve_ivp\n",
    "from scipy.optimize import fsolve\n",
    "import warnings\n",
    "import matplotlib.collections\n",
    "from utils import reparameterize, flexible_scatter, find_roots_rich\n",
    "warnings.filterwarnings('ignore', category=RuntimeWarning)\n",
    "\n",
    "def sig_term_r1(mu, sig, kappa, k, eps, lbd_spl, r):\n",
    "    eps = 0.0\n",
    "    args = (mu, sig, kappa, k, eps, lbd_spl, r)\n",
    "    res = - 1/8 * lbd2_rate_avg(*args)\n",
    "    return res / sig\n",
    "    \n",
    "def sig_term_r2(mu, sig, kappa, k, eps, lbd_spl, r):\n",
    "    eps = 0.0\n",
    "    args = (mu, sig, kappa, k, eps, lbd_spl, r)\n",
    "    res = 0.25 * mu**2 * rate_avg(*args)\n",
    "    return res / sig\n",
    "    \n",
    "# Function to create the streamline plot\n",
    "def plot_vector_field(Drho, Dc, T, epsilon, lbd_spl, r):\n",
    "    # Create a grid of points\n",
    "    x = np.linspace(0, 50, 100)\n",
    "    y = np.linspace(0.001, 6, 100)\n",
    "    X, Y = np.meshgrid(x, y)\n",
    "    kappa, k, eps, _, r = reparameterize(Drho, Dc, T, epsilon, r)\n",
    "    U, V = mu_sig_prime((X, Y), kappa, k, eps, lbd_spl, r)\n",
    "    \n",
    "    print(f\"µ∞ = {kappa/eps:.1e} (location of epsilon induced µ-nullcline)\")\n",
    "    mu0 = -1/k * np.log(eps/k/kappa)\n",
    "    print(f\"µ0 = {mu0:.2f} (location of maximum of v_M)\")    \n",
    "\n",
    "    plt.close('all')\n",
    "    fig, ax = plt.subplots(1, figsize=(10, 8))\n",
    "    # strm = ax.streamplot(X, Y, U, V, color=np.sqrt(U**2 + V**2), density=1.6, cmap='winter', norm=LogNorm(1e-16, 1e-1))\n",
    "    strm = ax.streamplot(X, Y, U, V, color='grey')\n",
    "    # fig.colorbar(strm.lines)\n",
    "\n",
    "    # Plot nullclines and other lines\n",
    "    lines = []\n",
    "    labels = []\n",
    "    initially_invis = []\n",
    "    \n",
    "    line1, = ax.plot(mu0 + k * y**2 / 2, y, 'b--', label='$\\sigma\\' = 0$ (analytic approx)')\n",
    "    initially_invis.append(line1)\n",
    "    lines.append(line1)\n",
    "    labels.append('$\\sigma\\' = 0$ (analytic approx)')\n",
    "    \n",
    "    _x = 2 * y**2 / lbd_spl**2\n",
    "    line4, = ax.plot(lbd_spl/2 * (1 + _x * np.log(4 * kappa/_x/r/y**2))/(1 + _x), y, 'r--', label='$\\mu\\' = 0$ (analytic approx)')\n",
    "    lines.append(line4)\n",
    "    labels.append('$\\mu\\' = 0$ (analytic approx)')\n",
    "    \n",
    "    line5, = ax.plot(x, np.sqrt(x/k), 'k--', label='$\\mu = k \\sigma^2$')\n",
    "    initially_invis.append(line5)\n",
    "    lines.append(line5)\n",
    "    labels.append('$\\mu = k \\sigma^2$')\n",
    "\n",
    "    line6, = ax.plot(np.sqrt(lbd_spl**2/2 + 2 * y**2), y, 'g--', label='$\\sigma^2 = \\mu^2/2 - \\Lambda_{spl}^2/4$')\n",
    "    # initially_invis.append(line6)\n",
    "    lines.append(line6)\n",
    "    labels.append('$\\sigma^2 = \\mu^2/2 - \\Lambda_{spl}^2/4$')\n",
    "\n",
    "    sigma_prime_pts = flexible_scatter(fig, ax, x, [find_roots_rich(lambda y: sig_prime(xi, y, kappa, k, eps, lbd_spl, r), y, ()) for xi in x], label='$\\sigma\\' = 0, \\epsilon > 0$')\n",
    "    lines.append(sigma_prime_pts)\n",
    "    labels.append('$\\sigma\\' = 0, \\epsilon > 0$')\n",
    "    \n",
    "#     sigma_prime_app1_pts = flexible_scatter(fig, ax, x, [find_roots_rich(lambda y: y**2 * k * erfc(-(xi-k*y**2)/y)/gauss(xi-k*y**2, y) - 0.5*(xi**2 + y**2) + eps/kappa * y**2 * xi * (y**2/xi**2 + 1) - y**2 * eps / kappa / gauss(xi, y), y, ()) for xi in x], label='$\\sigma\\' = 0, \\epsilon > 0$ (approx)')\n",
    "#     initially_invis.append(sigma_prime_app1_pts)\n",
    "#     lines.append(sigma_prime_app1_pts)\n",
    "#     labels.append('$\\sigma\\' = 0, \\epsilon > 0$ (approx)')\n",
    "    \n",
    "#     sigma_prime_app2_pts = flexible_scatter(fig, ax, x, [find_roots_rich(lambda y: sig_prime(xi, y, kappa, k, eps, lbd_spl, 0.0) + sig_term_r2(xi, y, kappa, k, eps, lbd_spl, r), y, ()) for xi in x], label='$\\sigma\\' = 0, \\epsilon > 0$ (approx2)')\n",
    "#     initially_invis.append(sigma_prime_app2_pts)\n",
    "#     lines.append(sigma_prime_app2_pts)\n",
    "#     labels.append('$\\sigma\\' = 0, \\epsilon > 0$ (approx2)')\n",
    "    \n",
    "    mu_prime_pts = flexible_scatter(fig, ax, [fsolve(lambda x: mu_prime(x, yi, kappa, k, eps, lbd_spl, r), k*yi**2) for yi in y], y, marker='+', label='$\\mu\\' = 0$')\n",
    "    lines.append(mu_prime_pts)\n",
    "    labels.append('$\\mu\\' = 0$')\n",
    "    \n",
    "    sigma_prime_eps0_pts = flexible_scatter(fig, ax, x, [find_roots_rich(lambda y: sig_prime(xi, y, kappa, k, 0.0, lbd_spl, r), y, ()) for xi in x], label='$\\sigma\\' = 0, \\epsilon = 0$')\n",
    "    initially_invis.append(sigma_prime_eps0_pts)\n",
    "    lines.append(sigma_prime_eps0_pts)\n",
    "    labels.append('$\\sigma\\' = 0, \\epsilon = 0$')\n",
    "\n",
    "#     sigma_prime_eps0_app1_pts = flexible_scatter(fig, ax, x, [find_roots_rich(lambda y: y**2 * k * erfc(-(xi-k*y**2)/y)/gauss(xi-k*y**2, y) - 0.5*(xi**2 + y**2), y, ()) for xi in x], label='$\\sigma\\' = 0, \\epsilon = 0$ (approx)')\n",
    "#     initially_invis.append(sigma_prime_eps0_app1_pts)\n",
    "#     lines.append(sigma_prime_eps0_app1_pts)\n",
    "#     labels.append('$\\sigma\\' = 0, \\epsilon = 0$ (approx)')\n",
    "\n",
    "    mu_prime_eps0_pts = flexible_scatter(fig, ax, [fsolve(lambda x: mu_prime(x, yi, kappa, k, 0.0, lbd_spl, r), k*yi**2) for yi in y], y, marker='+', label='$\\mu\\' = 0 (\\epsilon = 0)$')\n",
    "    initially_invis.append(mu_prime_eps0_pts)\n",
    "    lines.append(mu_prime_eps0_pts)\n",
    "    labels.append('$\\mu\\' = 0 (\\epsilon = 0)$')\n",
    "\n",
    "#     sig_prime_push_pts = flexible_scatter(fig, ax, x, [find_roots_rich(lambda y: lbd_spl**2 * y / (lbd_spl - xi)**2 * np.exp(-(lbd_spl-xi)**2/2/y**2) - 2 * eps * np.sqrt(2*np.pi) / r, y, ()) for xi in x], label='wish')\n",
    "#     initially_invis.append(sig_prime_push_pts)\n",
    "#     lines.append(sig_prime_push_pts)\n",
    "#     labels.append('wish')\n",
    "\n",
    "\n",
    "    ax.set_xlim(np.min(x), np.max(x))\n",
    "    ax.set_ylim(np.min(y), np.max(y))\n",
    "    ax.set_xlabel('mu')\n",
    "    ax.set_ylabel('sig')\n",
    "    ax.set_title('Streamline plot of the vector field')\n",
    "    ax.grid()\n",
    "\n",
    "    # Add legend and make it interactive\n",
    "    leg = ax.legend(fancybox=True, shadow=True)\n",
    "    _objs = leg.get_lines() + leg.findobj(matplotlib.collections.PathCollection)\n",
    "    map_legend_to_ax = {legend_line: line for legend_line, line in zip(_objs, lines)}\n",
    "\n",
    "    for legend_line in _objs:\n",
    "        legend_line.set_picker(5)  # Enable picking on the legend line\n",
    "\n",
    "    def on_pick(event):\n",
    "        # On the pick event, find the original line corresponding to the legend\n",
    "        # proxy line, and toggle its visibility.\n",
    "        legend_line = event.artist\n",
    "    \n",
    "        # Do nothing if the source of the event is not a legend line.\n",
    "        if legend_line not in map_legend_to_ax:\n",
    "            return\n",
    "    \n",
    "        plot_element = map_legend_to_ax[legend_line]\n",
    "        visible = not plot_element.get_visible()\n",
    "        plot_element.set_visible(visible)\n",
    "        # Change the alpha on the line in the legend, so we can see what lines\n",
    "        # have been toggled.\n",
    "        legend_line.set_alpha(1.0 if visible else 0.2)\n",
    "        fig.canvas.draw()\n",
    "    fig.canvas.mpl_connect('pick_event', on_pick)\n",
    "    leg.set_draggable(True)\n",
    "\n",
    "    for el in initially_invis:\n",
    "        el.set_visible(False)\n",
    "    \n",
    "    plt.tight_layout()\n",
    "    plt.show()\n",
    "\n",
    "\n",
    "# Interactive sliders\n",
    "Drho_slider = FloatSlider(value=0.1, min=0.01, max=1.0, step=0.01, description='D_rho:', layout=Layout(width='500px'), continuous_update=False)\n",
    "Dc_slider = FloatSlider(value=1.0, min=0.1, max=2.0, step=0.1, description='D_c:', layout=Layout(width='500px'), continuous_update=False)\n",
    "T_slider = FloatSlider(value=5.0, min=0.5, max=10.0, step=0.1, description='T:', layout=Layout(width='500px'), continuous_update=False)\n",
    "epsilon_slider = widgets.FloatLogSlider(value=1e-6, base=10, min=-8, max=1, step=0.1, description='epsilon:', readout_format='.2e', layout=Layout(width='500px'), continuous_update=False)\n",
    "lbd_spl_slider = FloatSlider(value=3e1, min=0, max=1e2, step=1, description='lbd_spl:', readout_format='.2e', layout=Layout(width='500px'), continuous_update=False)\n",
    "r_slider = widgets.FloatLogSlider(value=5e-5, min=-8, max=-1, step=0.1, description='r:', readout_format='.1e', layout=Layout(width='500px'), continuous_update=False)\n",
    "\n",
    "# Create interactive plot\n",
    "interactive_plot = interact(plot_vector_field, \n",
    "                            Drho=Drho_slider,\n",
    "                            Dc=Dc_slider,\n",
    "                            T=T_slider,\n",
    "                            epsilon=epsilon_slider,\n",
    "                            lbd_spl=lbd_spl_slider,\n",
    "                            r=r_slider)\n",
    "\n",
    "display(interactive_plot)\n"
   ]
  },
  {
   "cell_type": "code",
   "execution_count": 2,
   "metadata": {
    "code_folding": []
   },
   "outputs": [],
   "source": [
    "# find fold bifurcation - define functions  \n",
    "from MFKSGaussClosure import *\n",
    "from utils import reparameterize\n",
    "\n",
    "# given Drho, Dc, T, and 2 of (r, eps, lbd_spl) find the remaining one where fold happens\n",
    "# fold <=> equil. & |DF| = 0 <=> equil. & |Df| = 0\n",
    "def Df_eq(mu, sig, kappa, k, eps, lbd_spl, r):\n",
    "    args = (mu, sig, kappa, k, eps, lbd_spl, r)\n",
    "    return np.abs(dmu_f1(*args) * dsig_f2(*args) - dmu_f2(*args) * dsig_f1(*args))\n",
    "    \n",
    "# define function of 3 variables (mu, sig, lbd_spl)\n",
    "def fold_bif_func_lbd_spl(x, *args):\n",
    "    mu, sig, lbd_spl = x\n",
    "    kappa, k, eps, r = args\n",
    "    return [f1(mu, sig, kappa, k, eps, lbd_spl, r),\n",
    "           f2(mu, sig, kappa, k, eps, lbd_spl, r),\n",
    "           Df_eq(mu, sig, kappa, k, eps, lbd_spl, r)]\n",
    "\n",
    "# initial point \n",
    "Drho = 0.1\n",
    "Dc = 1.0\n",
    "T = 5.0\n",
    "epsilon = 1e-6 # initial\n",
    "r = 1e-3 \n",
    "kappa, k, eps, _, r = reparameterize(Drho, Dc, T, epsilon, r)\n",
    "\n",
    "fold_bif_func_lbd_spl_ini = [38.5, 5.3, 70.0]\n"
   ]
  },
  {
   "cell_type": "code",
   "execution_count": 3,
   "metadata": {
    "code_folding": []
   },
   "outputs": [
    {
     "name": "stderr",
     "output_type": "stream",
     "text": [
      "Worst case timer:  48%|███████████████████████                         | 481/1000 [00:10<00:11, 46.41it/s, rel_step_size=3.00e-02]\n"
     ]
    },
    {
     "name": "stdout",
     "output_type": "stream",
     "text": [
      "Success: Parameter box edge reached. \n"
     ]
    },
    {
     "name": "stderr",
     "output_type": "stream",
     "text": [
      "Worst case timer:  10%|████▍                                          | 475/5000 [00:14<02:19, 32.34it/s, rel_step_size=-2.82e-02]"
     ]
    },
    {
     "name": "stdout",
     "output_type": "stream",
     "text": [
      "Success: Parameter box edge reached. \n"
     ]
    },
    {
     "name": "stderr",
     "output_type": "stream",
     "text": [
      "\n"
     ]
    }
   ],
   "source": [
    "# find fold bifurcation - on epsilon range \n",
    "from utils import reparameterize, fixed_point_continuation, balanced_relative_dist\n",
    "_, _, eps_min, _, _ = reparameterize(Drho, Dc, T, 1e-11, r)\n",
    "_, _, eps_max, _, _ = reparameterize(Drho, Dc, T, 1e-1, r)\n",
    "\n",
    "xs_fold_bif_func_lbd_spl_hi, ps_fold_bif_func_lbd_spl_hi = fixed_point_continuation(func=fold_bif_func_lbd_spl, \n",
    "                         x_ini=fold_bif_func_lbd_spl_ini,\n",
    "                         p_old=(kappa, k, eps, r),\n",
    "                         p_box=(np.array([-np.inf, -np.inf, eps_min, -np.inf]), np.array([np.inf, np.inf, eps_max, np.inf])), \n",
    "                         p_step=np.array([0.0, 0.0, 1e-3, 0.0]),\n",
    "                         dist_func=balanced_relative_dist, \n",
    "                         dist_tol=0.1,\n",
    "                         maxiter=1000,\n",
    "                         p_step_decrease_multiplier=np.array([1.0, 1.0, 0.8, 1.0]),\n",
    "                         p_step_increase_multiplier=np.array([1.0, 1.0, 1+1e-2, 1.0]))\n",
    "\n",
    "xs_fold_bif_func_lbd_spl_lo, ps_fold_bif_func_lbd_spl_lo = fixed_point_continuation(func=fold_bif_func_lbd_spl, \n",
    "                         x_ini=fold_bif_func_lbd_spl_ini,\n",
    "                         p_old=(kappa, k, eps, r),\n",
    "                         p_box=(np.array([-np.inf, -np.inf, eps_min, -np.inf]), np.array([np.inf, np.inf, eps_max, np.inf])), \n",
    "                         p_step=np.array([0.0, 0.0, -1e-3, 0.0]),\n",
    "                         dist_func=balanced_relative_dist, \n",
    "                         dist_tol=0.1,\n",
    "                         maxiter=5000,\n",
    "                         p_step_decrease_multiplier=np.array([1.0, 1.0, 0.8, 1.0]),\n",
    "                         p_step_increase_multiplier=np.array([1.0, 1.0, 1+1e-2, 1.0]))\n",
    "\n",
    "xs_fold_bif_func_lbd_spl_eps_range = np.concatenate((xs_fold_bif_func_lbd_spl_lo[::-1, :], xs_fold_bif_func_lbd_spl_hi), 0)\n",
    "ps_fold_bif_func_lbd_spl_eps_range = np.concatenate((ps_fold_bif_func_lbd_spl_lo[::-1, :], ps_fold_bif_func_lbd_spl_hi), 0)\n",
    "\n",
    "\n",
    "if False: # plot\n",
    "    import matplotlib.pyplot as plt\n",
    "    %matplotlib widget\n",
    "    fig, ax = plt.subplots()\n",
    "    ax.plot(ps_fold_bif_func_lbd_spl_eps_range[:, 2], xs_fold_bif_func_lbd_spl_eps_range[:, -1], 'o', label='fold bifurcation')\n",
    "    ax.grid()\n",
    "    ax.legend()\n",
    "    ax.set_xscale('log')\n",
    "    plt.show()"
   ]
  },
  {
   "cell_type": "code",
   "execution_count": 4,
   "metadata": {},
   "outputs": [
    {
     "name": "stderr",
     "output_type": "stream",
     "text": [
      "Worst case timer:  39%|██████████████████▋                             | 389/1000 [00:09<00:14, 42.78it/s, rel_step_size=1.20e-02]\n"
     ]
    },
    {
     "name": "stdout",
     "output_type": "stream",
     "text": [
      "Success: Parameter box edge reached. \n"
     ]
    },
    {
     "name": "stderr",
     "output_type": "stream",
     "text": [
      "Worst case timer:  49%|███████████████████████▏                       | 493/1000 [00:09<00:10, 50.69it/s, rel_step_size=-3.38e-02]"
     ]
    },
    {
     "name": "stdout",
     "output_type": "stream",
     "text": [
      "Success: Parameter box edge reached. \n"
     ]
    },
    {
     "name": "stderr",
     "output_type": "stream",
     "text": [
      "\n"
     ]
    }
   ],
   "source": [
    "# find fold bifurcation - on r range\n",
    "from utils import reparameterize, fixed_point_continuation, balanced_relative_dist\n",
    "\n",
    "xs_fold_bif_func_lbd_spl_hi, ps_fold_bif_func_lbd_spl_hi = fixed_point_continuation(func=fold_bif_func_lbd_spl, \n",
    "                         x_ini=fold_bif_func_lbd_spl_ini,\n",
    "                         p_old=(kappa, k, eps, r),\n",
    "                         p_box=(np.array([-np.inf, -np.inf, -np.inf, 1e-9]), np.array([np.inf, np.inf, np.inf, 1e-1])), \n",
    "                         p_step=np.array([0.0, 0.0, 0.0, 1e-3]),\n",
    "                         dist_func=balanced_relative_dist, \n",
    "                         dist_tol=0.1,\n",
    "                         maxiter=1000,\n",
    "                         p_step_decrease_multiplier=np.array([1.0, 1.0, 1.0, 0.8]),\n",
    "                         p_step_increase_multiplier=np.array([1.0, 1.0, 1.0, 1+1e-2]))\n",
    "\n",
    "xs_fold_bif_func_lbd_spl_lo, ps_fold_bif_func_lbd_spl_lo = fixed_point_continuation(func=fold_bif_func_lbd_spl, \n",
    "                         x_ini=fold_bif_func_lbd_spl_ini,\n",
    "                         p_old=(kappa, k, eps, r),\n",
    "                         p_box=(np.array([-np.inf, -np.inf, -np.inf, 1e-9]), np.array([np.inf, np.inf, np.inf, 1e-1])), \n",
    "                         p_step=np.array([0.0, 0.0, 0.0, -1e-3]),\n",
    "                         dist_func=balanced_relative_dist, \n",
    "                         dist_tol=0.1,\n",
    "                         maxiter=1000,\n",
    "                         p_step_decrease_multiplier=np.array([1.0, 1.0, 1.0, 0.8]),\n",
    "                         p_step_increase_multiplier=np.array([1.0, 1.0, 1.0, 1+1e-2]))\n",
    "\n",
    "xs_fold_bif_func_lbd_spl_r_range = np.concatenate((xs_fold_bif_func_lbd_spl_lo[::-1, :], xs_fold_bif_func_lbd_spl_hi), 0)\n",
    "ps_fold_bif_func_lbd_spl_r_range = np.concatenate((ps_fold_bif_func_lbd_spl_lo[::-1, :], ps_fold_bif_func_lbd_spl_hi), 0)\n",
    "\n",
    "if False: # plot\n",
    "    import matplotlib.pyplot as plt\n",
    "    %matplotlib widget\n",
    "    fig, ax = plt.subplots()\n",
    "    ax.plot(ps_fold_bif_func_lbd_spl_r_range[:, 3], xs_fold_bif_func_lbd_spl_r_range[:, -1], 'o', label='fold bifurcation')\n",
    "    ax.grid()\n",
    "    ax.legend()\n",
    "    ax.set_xscale('log')\n",
    "    plt.show()"
   ]
  },
  {
   "cell_type": "code",
   "execution_count": 6,
   "metadata": {},
   "outputs": [
    {
     "name": "stderr",
     "output_type": "stream",
     "text": [
      "Worst case timer:  48%|██████████████████████▎                        | 475/1000 [00:06<00:07, 69.09it/s, rel_step_size=-2.82e-02]"
     ]
    },
    {
     "name": "stdout",
     "output_type": "stream",
     "text": [
      "Success: Parameter box edge reached. \n"
     ]
    },
    {
     "name": "stderr",
     "output_type": "stream",
     "text": [
      "\n"
     ]
    }
   ],
   "source": [
    "# find fold bifurcation - on eps range at any r\n",
    "r = 1e-7 # arbitrary\n",
    "_, _, eps_min, _, _ = reparameterize(Drho, Dc, T, 1e-11, r)\n",
    "_, _, eps_max, _, _ = reparameterize(Drho, Dc, T, 1e1, r)\n",
    "\n",
    "# take the closest two values as initial conditions \n",
    "inds = np.argsort(np.abs(r - ps_fold_bif_func_lbd_spl_r_range[:, -1]))[:2]\n",
    "weights = np.abs(r - ps_fold_bif_func_lbd_spl_r_range[inds, -1])\n",
    "x_ini_fold_bif_func_lbd_spl = np.average(xs_fold_bif_func_lbd_spl_r_range[inds, :], axis=0, weights=weights)\n",
    "\n",
    "# extend to all epsilon\n",
    "xs_fold_bif_func_lbd_spl_hi, ps_fold_bif_func_lbd_spl_hi = fixed_point_continuation(func=fold_bif_func_lbd_spl, \n",
    "                         x_ini=x_ini_fold_bif_func_lbd_spl,\n",
    "                         p_old=(kappa, k, eps, r),\n",
    "                         p_box=(np.array([-np.inf, -np.inf, eps_min, -np.inf]), np.array([np.inf, np.inf, eps_max, np.inf])), \n",
    "                         p_step=np.array([0.0, 0.0, 1e-3, 0.0]),\n",
    "                         dist_func=balanced_relative_dist, \n",
    "                         dist_tol=0.1,\n",
    "                         maxiter=1000,\n",
    "                         p_step_decrease_multiplier=np.array([1.0, 1.0, 0.8, 1.0]),\n",
    "                         p_step_increase_multiplier=np.array([1.0, 1.0, 1+1e-2, 1.0]))\n",
    "\n",
    "xs_fold_bif_func_lbd_spl_lo, ps_fold_bif_func_lbd_spl_lo = fixed_point_continuation(func=fold_bif_func_lbd_spl, \n",
    "                         x_ini=x_ini_fold_bif_func_lbd_spl,\n",
    "                         p_old=(kappa, k, eps, r),\n",
    "                         p_box=(np.array([-np.inf, -np.inf, eps_min, -np.inf]), np.array([np.inf, np.inf, eps_max, np.inf])), \n",
    "                         p_step=np.array([0.0, 0.0, -1e-3, 0.0]),\n",
    "                         dist_func=balanced_relative_dist, \n",
    "                         dist_tol=0.1,\n",
    "                         maxiter=1000,\n",
    "                         p_step_decrease_multiplier=np.array([1.0, 1.0, 0.8, 1.0]),\n",
    "                         p_step_increase_multiplier=np.array([1.0, 1.0, 1+1e-2, 1.0]))\n",
    "\n",
    "xs_fold_bif_func_lbd_spl = np.concatenate((xs_fold_bif_func_lbd_spl_lo[::-1, :], xs_fold_bif_func_lbd_spl_hi), 0)\n",
    "ps_fold_bif_func_lbd_spl = np.concatenate((ps_fold_bif_func_lbd_spl_lo[::-1, :], ps_fold_bif_func_lbd_spl_hi), 0)\n",
    "\n",
    "if False: # plot \n",
    "    import matplotlib.pyplot as plt\n",
    "    %matplotlib widget\n",
    "    fig, ax = plt.subplots()\n",
    "    ax.plot(ps_fold_bif_func_lbd_spl[:, 2], xs_fold_bif_func_lbd_spl[:, -1], 'o', label='fold bifurcation')\n",
    "    ax.grid()\n",
    "    ax.legend()\n",
    "    ax.set_xscale('log')\n",
    "    plt.show()"
   ]
  },
  {
   "cell_type": "code",
   "execution_count": 18,
   "metadata": {
    "code_folding": []
   },
   "outputs": [
    {
     "data": {
      "application/vnd.jupyter.widget-view+json": {
       "model_id": "300ef6d60e374c5184516fbd12798e2a",
       "version_major": 2,
       "version_minor": 0
      },
      "text/plain": [
       "interactive(children=(FloatLogSlider(value=0.00101, continuous_update=False, description='r', max=-1.0, min=-5…"
      ]
     },
     "metadata": {},
     "output_type": "display_data"
    }
   ],
   "source": [
    "# find fold bifurcation - on eps range at any r (interactive)\n",
    "import numpy as np\n",
    "import matplotlib.pyplot as plt\n",
    "%matplotlib widget\n",
    "from ipywidgets import interactive, widgets\n",
    "from IPython.display import display\n",
    "import warnings\n",
    "warnings.filterwarnings('ignore', category=RuntimeWarning)\n",
    "from utils import epsilon_from_eps\n",
    "\n",
    "epsilon_min = 1e-7\n",
    "epsilon_max = 1e1\n",
    "\n",
    "# eps range definition\n",
    "_, _, eps_min, _, _ = reparameterize(Drho, Dc, T, epsilon_min, r)\n",
    "_, _, eps_max, _, _ = reparameterize(Drho, Dc, T, epsilon_max, r)\n",
    "\n",
    "# Function to plot\n",
    "def plot_functions(r, log_y):\n",
    "\n",
    "\n",
    "    # take the closest two values as initial conditions \n",
    "    inds = np.argsort(np.abs(r - ps_fold_bif_func_lbd_spl_r_range[:, -1]))[:2]\n",
    "    weights = np.abs(r - ps_fold_bif_func_lbd_spl_r_range[inds, -1])\n",
    "    x_ini_fold_bif_func_lbd_spl = np.average(xs_fold_bif_func_lbd_spl_r_range[inds, :], axis=0, weights=weights)\n",
    "\n",
    "    # extend to all epsilon\n",
    "    xs_fold_bif_func_lbd_spl_hi, ps_fold_bif_func_lbd_spl_hi = fixed_point_continuation(func=fold_bif_func_lbd_spl, \n",
    "                            x_ini=x_ini_fold_bif_func_lbd_spl,\n",
    "                            p_old=(kappa, k, eps, r),\n",
    "                            p_box=(np.array([-np.inf, -np.inf, eps_min, -np.inf]), np.array([np.inf, np.inf, eps_max, np.inf])), \n",
    "                            p_step=np.array([0.0, 0.0, 1e-3, 0.0]),\n",
    "                            dist_func=balanced_relative_dist, \n",
    "                            dist_tol=0.1,\n",
    "                            maxiter=1000,\n",
    "                            p_step_decrease_multiplier=np.array([1.0, 1.0, 0.8, 1.0]),\n",
    "                            p_step_increase_multiplier=np.array([1.0, 1.0, 1+1e-2, 1.0]))\n",
    "\n",
    "    xs_fold_bif_func_lbd_spl_lo, ps_fold_bif_func_lbd_spl_lo = fixed_point_continuation(func=fold_bif_func_lbd_spl, \n",
    "                            x_ini=x_ini_fold_bif_func_lbd_spl,\n",
    "                            p_old=(kappa, k, eps, r),\n",
    "                            p_box=(np.array([-np.inf, -np.inf, eps_min, -np.inf]), np.array([np.inf, np.inf, eps_max, np.inf])), \n",
    "                            p_step=np.array([0.0, 0.0, -1e-3, 0.0]),\n",
    "                            dist_func=balanced_relative_dist, \n",
    "                            dist_tol=0.1,\n",
    "                            maxiter=1000,\n",
    "                            p_step_decrease_multiplier=np.array([1.0, 1.0, 0.8, 1.0]),\n",
    "                            p_step_increase_multiplier=np.array([1.0, 1.0, 1+1e-2, 1.0]))\n",
    "\n",
    "    xs_fold_bif_func_lbd_spl = np.concatenate((xs_fold_bif_func_lbd_spl_lo[::-1, :], xs_fold_bif_func_lbd_spl_hi), 0)\n",
    "    ps_fold_bif_func_lbd_spl = np.concatenate((ps_fold_bif_func_lbd_spl_lo[::-1, :], ps_fold_bif_func_lbd_spl_hi), 0)\n",
    "    \n",
    "    plt.figure(figsize=(10, 6))\n",
    "    epsilon_range = epsilon_from_eps(ps_fold_bif_func_lbd_spl[:, 2])\n",
    "    kappa_array, k_array, eps_array, lbd_spl_array, r_array = reparameterize(Drho, Dc, T, epsilon_range, r)\n",
    "    lower_stab_array = -1/k_array * np.log(eps_array / k_array / kappa_array)\n",
    "\n",
    "    if False: # lines    \n",
    "        plt.plot(epsilon_range, xs_fold_bif_func_lbd_spl[:, -1], 'o', label='fold bifurcation')\n",
    "        plt.plot(epsilon_range, lower_stab_array, 'g-', label='argmax v_M')\n",
    "        ylims = plt.ylim()\n",
    "        plt.plot(epsilon_range, lbd_spl_array, 'k-', label='KS line')\n",
    "        plt.ylim(*ylims)\n",
    "\n",
    "    else: # fill between version\n",
    "        plt.plot(epsilon_range, xs_fold_bif_func_lbd_spl[:, -1], 'o', alpha=0)\n",
    "        plt.ylim(11, 31)\n",
    "        ylims = plt.ylim()\n",
    "        plt.plot(epsilon_range, lbd_spl_array, 'k-', label='KS line')\n",
    "        NNN = len(xs_fold_bif_func_lbd_spl[:, -1])\n",
    "        plt.fill_between(epsilon_range, xs_fold_bif_func_lbd_spl[:, -1], [ylims[1]]*NNN,                 color=(0, 0, 1)    , label='only trivial')\n",
    "        plt.fill_between(epsilon_range, lower_stab_array,                xs_fold_bif_func_lbd_spl[:, -1],color=(0.5, 0, 0.5), label='bistable')\n",
    "        plt.fill_between(epsilon_range, [ylims[0]]*NNN,                  lower_stab_array,               color=(1, 0, 0)    , label='only chaos')\n",
    "        scale_argument = np.asarray([fsolve(lambda x: kappa * np.exp(-k * x) - kappa * np.exp(-k * x / 2) + eps * x / 2, 30) for eps in eps_array]).flatten()\n",
    "        # scale_argument2 = - 2 / k_array * np.log(epsilon_range / k_array / kappa_array)\n",
    "        plt.plot(epsilon_range, scale_argument, 'white', linestyle='--', label='scale argument')\n",
    "        # plt.plot(epsilon_range, scale_argument2, 'white')\n",
    "        # plt.fill_between(epsilon_range, scale_argument, [ylims[1]]*NNN,   color=(0, 0, 1), label='only trivial')\n",
    "        # plt.fill_between(epsilon_range, lower_stab_array, scale_argument, color=(0.5, 0, 0.5), label='bistable')\n",
    "        # plt.fill_between(epsilon_range, [ylims[0]]*NNN, lower_stab_array, color=(1, 0, 0), label='only chaos')\n",
    "        \n",
    "        plt.ylim(*ylims)\n",
    "        plt.xlim(0.8e-2, 1.05e0)\n",
    "        plt.ylim(11, 31)\n",
    "\n",
    "    if log_y:\n",
    "        plt.yscale('log')\n",
    "        \n",
    "    plt.legend()\n",
    "    plt.xscale('log')\n",
    "    plt.xlabel('epsilon')\n",
    "    plt.ylabel('lbd_spl')\n",
    "    plt.title('Interactive Plot of Functions')\n",
    "    plt.grid(True)\n",
    "    plt.show()\n",
    "\n",
    "# Define sliders and checkboxes\n",
    "r_slider = widgets.FloatLogSlider(value=1.01e-3, base=10, min=-5, max=-1, step=0.1, readout_format='.2e', continuous_update=False, description='r')\n",
    "log_y_toggle = widgets.ToggleButton(value=False, description='Log y-axis', button_style='')\n",
    "\n",
    "# Create interactive plot\n",
    "interactive_plot = interactive(plot_functions, \n",
    "                               r=r_slider,\n",
    "                               log_y=log_y_toggle)\n",
    "\n",
    "display(interactive_plot)\n"
   ]
  },
  {
   "cell_type": "code",
   "execution_count": 19,
   "metadata": {},
   "outputs": [],
   "source": [
    "plt.close('all')"
   ]
  },
  {
   "cell_type": "code",
   "execution_count": null,
   "metadata": {},
   "outputs": [],
   "source": []
  },
  {
   "cell_type": "code",
   "execution_count": null,
   "metadata": {
    "code_folding": [
     1
    ],
    "jupyter": {
     "source_hidden": true
    }
   },
   "outputs": [],
   "source": []
  },
  {
   "cell_type": "code",
   "execution_count": null,
   "metadata": {
    "code_folding": [
     0
    ],
    "jupyter": {
     "source_hidden": true
    }
   },
   "outputs": [],
   "source": []
  },
  {
   "cell_type": "code",
   "execution_count": null,
   "metadata": {
    "jupyter": {
     "source_hidden": true
    }
   },
   "outputs": [],
   "source": []
  },
  {
   "cell_type": "markdown",
   "metadata": {
    "jp-MarkdownHeadingCollapsed": true
   },
   "source": [
    "## Trash"
   ]
  },
  {
   "cell_type": "code",
   "execution_count": 6,
   "metadata": {},
   "outputs": [],
   "source": [
    "# find transcrit bifurcation - define functions  \n",
    "from MFKSGaussClosure import *\n",
    "\n",
    "# given Drho, Dc, T, and 2 of (r, eps, lbd_spl) find the remaining one where transcrit happens\n",
    "# transcrit <=> sigma-equil. & dsig_F2 = 0 & dmu_F2 = 0\n",
    "# define function of 3 variables (mu, sig, lbd_spl)\n",
    "def transcrit_bif_func_lbd_spl(x, *args):\n",
    "    mu, sig, lbd_spl = x\n",
    "    kappa, k, eps, r = args\n",
    "    return [F2(mu, sig, kappa, k, eps, lbd_spl, r),\n",
    "           dsig_f2(mu, sig, kappa, k, eps, lbd_spl, r) - sig * f1(mu, sig, kappa, k, eps, lbd_spl, r) + 0.5 * (mu**2 - sig**2) * dsig_f1(mu, sig, kappa, k, eps, lbd_spl, r),\n",
    "            dmu_f2(mu, sig, kappa, k, eps, lbd_spl, r) + mu  * f1(mu, sig, kappa, k, eps, lbd_spl, r) + 0.5 * (mu**2 - sig**2) * dmu_f1(mu, sig, kappa, k, eps, lbd_spl, r)]\n"
   ]
  },
  {
   "cell_type": "code",
   "execution_count": 7,
   "metadata": {},
   "outputs": [
    {
     "name": "stderr",
     "output_type": "stream",
     "text": [
      "Worst case timer:  48%|███████████████████████                         | 481/1000 [00:06<00:06, 80.14it/s, rel_step_size=3.00e-02]\n"
     ]
    },
    {
     "name": "stdout",
     "output_type": "stream",
     "text": [
      "Success: Parameter box edge reached. \n"
     ]
    },
    {
     "name": "stderr",
     "output_type": "stream",
     "text": [
      "Worst case timer:  10%|████▍                                          | 475/5000 [00:09<01:28, 51.33it/s, rel_step_size=-2.82e-02]\n"
     ]
    },
    {
     "name": "stdout",
     "output_type": "stream",
     "text": [
      "Success: Parameter box edge reached. \n"
     ]
    }
   ],
   "source": [
    "# find transcrit bifurcation - on epsilon range \n",
    "from utils import reparameterize, fixed_point_continuation, balanced_relative_dist\n",
    "Drho = 0.1\n",
    "Dc = 1.0\n",
    "T = 5.0\n",
    "epsilon = 1e-6 # initial\n",
    "r = 1e-3 \n",
    "kappa, k, eps, _, r = reparameterize(Drho, Dc, T, epsilon, r)\n",
    "_, _, eps_min, _, _ = reparameterize(Drho, Dc, T, 1e-11, r)\n",
    "_, _, eps_max, _, _ = reparameterize(Drho, Dc, T, 1e-1, r)\n",
    "\n",
    "transcrit_bif_func_lbd_spl_ini = [27.0, 1.9, 37.0]\n",
    "\n",
    "xs_transcrit_bif_func_lbd_spl_hi, ps_transcrit_bif_func_lbd_spl_hi = fixed_point_continuation(func=transcrit_bif_func_lbd_spl, \n",
    "                         x_ini=transcrit_bif_func_lbd_spl_ini,\n",
    "                         p_old=(kappa, k, eps, r),\n",
    "                         p_box=(np.array([-np.inf, -np.inf, eps_min, -np.inf]), np.array([np.inf, np.inf, eps_max, np.inf])), \n",
    "                         p_step=np.array([0.0, 0.0, 1e-3, 0.0]),\n",
    "                         dist_func=balanced_relative_dist, \n",
    "                         dist_tol=0.1,\n",
    "                         maxiter=1000,\n",
    "                         p_step_decrease_multiplier=np.array([1.0, 1.0, 0.8, 1.0]),\n",
    "                         p_step_increase_multiplier=np.array([1.0, 1.0, 1+1e-2, 1.0]))\n",
    "\n",
    "xs_transcrit_bif_func_lbd_spl_lo, ps_transcrit_bif_func_lbd_spl_lo = fixed_point_continuation(func=transcrit_bif_func_lbd_spl, \n",
    "                         x_ini=transcrit_bif_func_lbd_spl_ini,\n",
    "                         p_old=(kappa, k, eps, r),\n",
    "                         p_box=(np.array([-np.inf, -np.inf, eps_min, -np.inf]), np.array([np.inf, np.inf, eps_max, np.inf])), \n",
    "                         p_step=np.array([0.0, 0.0, -1e-3, 0.0]),\n",
    "                         dist_func=balanced_relative_dist, \n",
    "                         dist_tol=0.1,\n",
    "                         maxiter=5000,\n",
    "                         p_step_decrease_multiplier=np.array([1.0, 1.0, 0.8, 1.0]),\n",
    "                         p_step_increase_multiplier=np.array([1.0, 1.0, 1+1e-2, 1.0]))\n",
    "\n",
    "\n",
    "\n",
    "xs_transcrit_bif_func_lbd_spl_eps_range = np.concatenate((xs_transcrit_bif_func_lbd_spl_hi, xs_transcrit_bif_func_lbd_spl_lo), 0)\n",
    "ps_transcrit_bif_func_lbd_spl_eps_range = np.concatenate((ps_transcrit_bif_func_lbd_spl_hi, ps_transcrit_bif_func_lbd_spl_lo), 0)\n",
    "    \n",
    "# import matplotlib.pyplot as plt\n",
    "# %matplotlib widget\n",
    "# fig, ax = plt.subplots()\n",
    "# ax.plot(ps_transcrit_bif_func_lbd_spl_eps_range[:, 2], xs_transcrit_bif_func_lbd_spl_eps_range[:, -1], 'o', label='transcrit bifurcation')\n",
    "# ax.grid()\n",
    "# ax.legend()\n",
    "# ax.set_xscale('log')\n",
    "# plt.show()"
   ]
  },
  {
   "cell_type": "code",
   "execution_count": 8,
   "metadata": {},
   "outputs": [
    {
     "name": "stderr",
     "output_type": "stream",
     "text": [
      "Worst case timer:  39%|██████████████████▋                             | 389/1000 [00:06<00:10, 59.67it/s, rel_step_size=1.20e-02]\n"
     ]
    },
    {
     "name": "stdout",
     "output_type": "stream",
     "text": [
      "Success: Parameter box edge reached. \n"
     ]
    },
    {
     "name": "stderr",
     "output_type": "stream",
     "text": [
      "Worst case timer: 100%|██████████████████████████████████████████████| 5000/5000 [01:19<00:00, 62.57it/s, rel_step_size=-1.20e-17]"
     ]
    },
    {
     "name": "stdout",
     "output_type": "stream",
     "text": [
      "Terminated at i = 5000. Parameter box edge NOT reached.\n"
     ]
    },
    {
     "name": "stderr",
     "output_type": "stream",
     "text": [
      "\n"
     ]
    }
   ],
   "source": [
    "# find transcrit bifurcation - on r range  \n",
    "Drho = 0.1\n",
    "Dc = 1.0\n",
    "T = 5.0\n",
    "epsilon = 1e-6 \n",
    "r = 1e-3 # initial\n",
    "kappa, k, eps, _, r = reparameterize(Drho, Dc, T, epsilon, r)\n",
    "\n",
    "xs_transcrit_bif_func_lbd_spl_hi, ps_transcrit_bif_func_lbd_spl_hi = fixed_point_continuation(func=transcrit_bif_func_lbd_spl, \n",
    "                         x_ini=transcrit_bif_func_lbd_spl_ini,\n",
    "                         p_old=(kappa, k, eps, r),\n",
    "                         p_box=(np.array([-np.inf, -np.inf, -np.inf, 1e-9]), np.array([np.inf, np.inf, np.inf, 1e-1])), \n",
    "                         p_step=np.array([0.0, 0.0, 0.0, 1e-3]),\n",
    "                         dist_func=balanced_relative_dist, \n",
    "                         dist_tol=0.1,\n",
    "                         maxiter=1000,\n",
    "                         p_step_decrease_multiplier=np.array([1.0, 1.0, 1.0, 0.8]),\n",
    "                         p_step_increase_multiplier=np.array([1.0, 1.0, 1.0, 1+1e-2]))\n",
    "\n",
    "xs_transcrit_bif_func_lbd_spl_lo, ps_transcrit_bif_func_lbd_spl_lo = fixed_point_continuation(func=transcrit_bif_func_lbd_spl, \n",
    "                         x_ini=transcrit_bif_func_lbd_spl_ini,\n",
    "                         p_old=(kappa, k, eps, r),\n",
    "                         p_box=(np.array([-np.inf, -np.inf, -np.inf, 1e-9]), np.array([np.inf, np.inf, np.inf, 1e-1])), \n",
    "                         p_step=np.array([0.0, 0.0, 0.0, -1e-3]),\n",
    "                         dist_func=balanced_relative_dist, \n",
    "                         dist_tol=0.1,\n",
    "                         maxiter=5000,\n",
    "                         p_step_decrease_multiplier=np.array([1.0, 1.0, 1.0, 0.8]),\n",
    "                         p_step_increase_multiplier=np.array([1.0, 1.0, 1.0, 1+1e-2]))\n",
    "\n",
    "\n",
    "\n",
    "xs_transcrit_bif_func_lbd_spl_r_range = np.concatenate((xs_transcrit_bif_func_lbd_spl_hi, xs_transcrit_bif_func_lbd_spl_lo), 0)\n",
    "ps_transcrit_bif_func_lbd_spl_r_range = np.concatenate((ps_transcrit_bif_func_lbd_spl_hi, ps_transcrit_bif_func_lbd_spl_lo), 0)\n",
    "\n",
    "# import matplotlib.pyplot as plt\n",
    "# %matplotlib widget\n",
    "# fig, ax = plt.subplots()\n",
    "# ax.plot(ps_transcrit_bif_func_lbd_spl_r_range[:, 3], xs_transcrit_bif_func_lbd_spl_r_range[:, -1], 'o', label='transcrit bifurcation')\n",
    "# ax.grid()\n",
    "# ax.legend()\n",
    "# ax.set_xscale('log')\n",
    "# plt.show()"
   ]
  },
  {
   "cell_type": "code",
   "execution_count": 18,
   "metadata": {},
   "outputs": [
    {
     "name": "stderr",
     "output_type": "stream",
     "text": [
      "Worst case timer:  48%|█████████████████████▊                        | 475/1000 [00:04<00:05, 101.07it/s, rel_step_size=-2.82e-02]\n"
     ]
    },
    {
     "name": "stdout",
     "output_type": "stream",
     "text": [
      "Success: Parameter box edge reached. \n"
     ]
    },
    {
     "data": {
      "application/vnd.jupyter.widget-view+json": {
       "model_id": "2aac99bff25f49b282d6b1ee64e9ef42",
       "version_major": 2,
       "version_minor": 0
      },
      "image/png": "[encoded data removed]",
      "text/html": [
       "\n",
       "            <div style=\"display: inline-block;\">\n",
       "                <div class=\"jupyter-widgets widget-label\" style=\"text-align: center;\">\n",
       "                    Figure\n",
       "                </div>\n",
       "                <img src='data:image/png;base64,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' width=640.0/>\n",
       "            </div>\n",
       "        "
      ],
      "text/plain": [
       "Canvas(toolbar=Toolbar(toolitems=[('Home', 'Reset original view', 'home', 'home'), ('Back', 'Back to previous …"
      ]
     },
     "metadata": {},
     "output_type": "display_data"
    }
   ],
   "source": [
    "# find transcrit bifurcation - on eps range at any r\n",
    "import warnings\n",
    "warnings.filterwarnings('ignore', category=RuntimeWarning)\n",
    "\n",
    "Drho = 0.1\n",
    "Dc = 1.0\n",
    "T = 5.0\n",
    "epsilon = 1e-6 # initial\n",
    "r = 1e-6\n",
    "\n",
    "kappa, k, eps, _, _ = reparameterize(Drho, Dc, T, epsilon, r)\n",
    "_, _, eps_min, _, _ = reparameterize(Drho, Dc, T, 1e-11, r)\n",
    "_, _, eps_max, _, _ = reparameterize(Drho, Dc, T, 1e1, r)\n",
    "\n",
    "\n",
    "# take the closest two values as initial conditions \n",
    "inds = np.argsort(np.abs(r - ps_transcrit_bif_func_lbd_spl_r_range[:, -1]))[:2]\n",
    "weights = np.abs(r - ps_transcrit_bif_func_lbd_spl_r_range[inds, -1])\n",
    "x_ini_transcrit_bif_func_lbd_spl = np.average(xs_transcrit_bif_func_lbd_spl_r_range[inds, :], axis=0, weights=weights)\n",
    "\n",
    "# extend to all epsilon\n",
    "xs_transcrit_bif_func_lbd_spl_hi, ps_transcrit_bif_func_lbd_spl_hi = fixed_point_continuation(func=transcrit_bif_func_lbd_spl, \n",
    "                         x_ini=x_ini_transcrit_bif_func_lbd_spl,\n",
    "                         p_old=(kappa, k, eps, r),\n",
    "                         p_box=(np.array([-np.inf, -np.inf, eps_min, -np.inf]), np.array([np.inf, np.inf, eps_max, np.inf])), \n",
    "                         p_step=np.array([0.0, 0.0, 1e-3, 0.0]),\n",
    "                         dist_func=balanced_relative_dist, \n",
    "                         dist_tol=0.1,\n",
    "                         maxiter=1000,\n",
    "                         p_step_decrease_multiplier=np.array([1.0, 1.0, 0.8, 1.0]),\n",
    "                         p_step_increase_multiplier=np.array([1.0, 1.0, 1+1e-2, 1.0]))\n",
    "\n",
    "xs_transcrit_bif_func_lbd_spl_lo, ps_transcrit_bif_func_lbd_spl_lo = fixed_point_continuation(func=transcrit_bif_func_lbd_spl, \n",
    "                         x_ini=x_ini_transcrit_bif_func_lbd_spl,\n",
    "                         p_old=(kappa, k, eps, r),\n",
    "                         p_box=(np.array([-np.inf, -np.inf, eps_min, -np.inf]), np.array([np.inf, np.inf, eps_max, np.inf])), \n",
    "                         p_step=np.array([0.0, 0.0, -1e-3, 0.0]),\n",
    "                         dist_func=balanced_relative_dist, \n",
    "                         dist_tol=0.1,\n",
    "                         maxiter=1000,\n",
    "                         p_step_decrease_multiplier=np.array([1.0, 1.0, 0.8, 1.0]),\n",
    "                         p_step_increase_multiplier=np.array([1.0, 1.0, 1+1e-2, 1.0]))\n",
    "\n",
    "\n",
    "\n",
    "xs_transcrit_bif_func_lbd_spl = np.concatenate((xs_transcrit_bif_func_lbd_spl_hi, xs_transcrit_bif_func_lbd_spl_lo), 0)\n",
    "ps_transcrit_bif_func_lbd_spl = np.concatenate((ps_transcrit_bif_func_lbd_spl_hi, ps_transcrit_bif_func_lbd_spl_lo), 0)\n",
    "    \n",
    "import matplotlib.pyplot as plt\n",
    "%matplotlib widget\n",
    "fig, ax = plt.subplots()\n",
    "ax.plot(ps_transcrit_bif_func_lbd_spl[:, 2], xs_transcrit_bif_func_lbd_spl[:, -1], 'o', label='transcrit bifurcation')\n",
    "ax.grid()\n",
    "ax.legend()\n",
    "ax.set_xscale('log')\n",
    "plt.show()"
   ]
  },
  {
   "cell_type": "code",
   "execution_count": 19,
   "metadata": {},
   "outputs": [
    {
     "data": {
      "application/vnd.jupyter.widget-view+json": {
       "model_id": "aa54c0b9cee14913948eef0fc984edf6",
       "version_major": 2,
       "version_minor": 0
      },
      "text/plain": [
       "interactive(children=(IntSlider(value=1000, continuous_update=False, description='n_epsilon', max=10000, min=1…"
      ]
     },
     "metadata": {},
     "output_type": "display_data"
    }
   ],
   "source": [
    "# want to explore transcrit_lbd_spl_epsilon_range at any r\n",
    "import numpy as np\n",
    "import matplotlib.pyplot as plt\n",
    "%matplotlib widget\n",
    "from ipywidgets import interactive, widgets\n",
    "from IPython.display import display\n",
    "import warnings\n",
    "warnings.filterwarnings('ignore', category=RuntimeWarning)\n",
    "\n",
    "# Function to plot\n",
    "def plot_functions(n_epsilon, r, log_y):\n",
    "\n",
    "    kappa, k, eps, _, _ = reparameterize(Drho, Dc, T, epsilon, r)\n",
    "    _, _, eps_min, _, _ = reparameterize(Drho, Dc, T, 1e-11, r)\n",
    "    _, _, eps_max, _, _ = reparameterize(Drho, Dc, T, 1e1, r)\n",
    "    \n",
    "    \n",
    "    # take the closest two values as initial conditions \n",
    "    inds = np.argsort(np.abs(r - ps_transcrit_bif_func_lbd_spl_r_range[:, -1]))[:2]\n",
    "    weights = np.abs(r - ps_transcrit_bif_func_lbd_spl_r_range[inds, -1])\n",
    "    x_ini_transcrit_bif_func_lbd_spl = np.average(xs_transcrit_bif_func_lbd_spl_r_range[inds, :], axis=0, weights=weights)\n",
    "    \n",
    "    # extend to all epsilon\n",
    "    xs_transcrit_bif_func_lbd_spl_hi, ps_transcrit_bif_func_lbd_spl_hi = fixed_point_continuation(func=transcrit_bif_func_lbd_spl, \n",
    "                             x_ini=x_ini_transcrit_bif_func_lbd_spl,\n",
    "                             p_old=(kappa, k, eps, r),\n",
    "                             p_box=(np.array([-np.inf, -np.inf, eps_min, -np.inf]), np.array([np.inf, np.inf, eps_max, np.inf])), \n",
    "                             p_step=np.array([0.0, 0.0, 1e-3, 0.0]),\n",
    "                             dist_func=balanced_relative_dist, \n",
    "                             dist_tol=0.1,\n",
    "                             maxiter=1000,\n",
    "                             p_step_decrease_multiplier=np.array([1.0, 1.0, 0.8, 1.0]),\n",
    "                             p_step_increase_multiplier=np.array([1.0, 1.0, 1+1e-2, 1.0]))\n",
    "    \n",
    "    xs_transcrit_bif_func_lbd_spl_lo, ps_transcrit_bif_func_lbd_spl_lo = fixed_point_continuation(func=transcrit_bif_func_lbd_spl, \n",
    "                             x_ini=x_ini_transcrit_bif_func_lbd_spl,\n",
    "                             p_old=(kappa, k, eps, r),\n",
    "                             p_box=(np.array([-np.inf, -np.inf, eps_min, -np.inf]), np.array([np.inf, np.inf, eps_max, np.inf])), \n",
    "                             p_step=np.array([0.0, 0.0, -1e-3, 0.0]),\n",
    "                             dist_func=balanced_relative_dist, \n",
    "                             dist_tol=0.1,\n",
    "                             maxiter=1000,\n",
    "                             p_step_decrease_multiplier=np.array([1.0, 1.0, 0.8, 1.0]),\n",
    "                             p_step_increase_multiplier=np.array([1.0, 1.0, 1+1e-2, 1.0]))\n",
    "    \n",
    "    \n",
    "    \n",
    "    xs_transcrit_bif_func_lbd_spl = np.concatenate((xs_transcrit_bif_func_lbd_spl_hi, xs_transcrit_bif_func_lbd_spl_lo), 0)\n",
    "    ps_transcrit_bif_func_lbd_spl = np.concatenate((ps_transcrit_bif_func_lbd_spl_hi, ps_transcrit_bif_func_lbd_spl_lo), 0)\n",
    "\n",
    "    \n",
    "    plt.figure(figsize=(10, 6))\n",
    "    plt.plot(ps_transcrit_bif_func_lbd_spl[:, 2], xs_transcrit_bif_func_lbd_spl[:, -1], 'o', label='transcrit bifurcation')\n",
    "    \n",
    "    if log_y:\n",
    "        plt.yscale('log')\n",
    "        \n",
    "    plt.legend()\n",
    "    plt.xscale('log')\n",
    "    plt.xlabel('epsilon')\n",
    "    plt.ylabel('Function Value')\n",
    "    plt.title('Interactive Plot of Functions')\n",
    "    plt.grid(True)\n",
    "    plt.show()\n",
    "\n",
    "# Define sliders and checkboxes\n",
    "n_epsilon_slider = widgets.IntSlider(value=1000, min=100, max=10000, step=100, continuous_update=False, description='n_epsilon')\n",
    "r_slider = widgets.FloatLogSlider(value=1.01e-3, base=10, min=-5, max=-1, step=0.1, readout_format='.2e', continuous_update=False, description='r')\n",
    "log_y_toggle = widgets.ToggleButton(value=False, description='Log y-axis', button_style='')\n",
    "\n",
    "# Create interactive plot\n",
    "interactive_plot = interactive(plot_functions, \n",
    "                               n_epsilon=n_epsilon_slider,\n",
    "                               r=r_slider,\n",
    "                               log_y=log_y_toggle)\n",
    "\n",
    "display(interactive_plot)\n"
   ]
  },
  {
   "cell_type": "code",
   "execution_count": 9,
   "metadata": {},
   "outputs": [
    {
     "data": {
      "application/vnd.jupyter.widget-view+json": {
       "model_id": "ca936a303b4446699403efee7c053ff7",
       "version_major": 2,
       "version_minor": 0
      },
      "text/plain": [
       "interactive(children=(IntSlider(value=1000, continuous_update=False, description='n_epsilon', max=10000, min=1…"
      ]
     },
     "metadata": {},
     "output_type": "display_data"
    },
    {
     "name": "stderr",
     "output_type": "stream",
     "text": [
      "No such comm: 33d1cf99e9fe4a8f831a82d3af283097\n"
     ]
    }
   ],
   "source": [
    "# want to explore transcrit and fold at any r\n",
    "import numpy as np\n",
    "import matplotlib.pyplot as plt\n",
    "%matplotlib widget\n",
    "from ipywidgets import interactive, widgets\n",
    "from IPython.display import display\n",
    "import warnings\n",
    "from utils import epsilon_from_eps\n",
    "warnings.filterwarnings('ignore', category=RuntimeWarning)\n",
    "\n",
    "epsilon_min = 1e-7\n",
    "epsilon_max = 1e1\n",
    "\n",
    "# Function to plot\n",
    "def plot_functions(n_epsilon, r, log_y):\n",
    "\n",
    "    kappa, k, eps, _, _ = reparameterize(Drho, Dc, T, epsilon, r)\n",
    "    _, _, eps_min, _, _ = reparameterize(Drho, Dc, T, epsilon_min, r)\n",
    "    _, _, eps_max, _, _ = reparameterize(Drho, Dc, T, epsilon_max, r)\n",
    "\n",
    "    # take the closest two values as initial conditions \n",
    "    inds = np.argsort(np.abs(r - ps_fold_bif_func_lbd_spl_r_range[:, -1]))[:2]\n",
    "    weights = np.abs(r - ps_fold_bif_func_lbd_spl_r_range[inds, -1])\n",
    "    x_ini_fold_bif_func_lbd_spl = np.average(xs_fold_bif_func_lbd_spl_r_range[inds, :], axis=0, weights=weights)\n",
    "    \n",
    "    # extend to all epsilon\n",
    "    print('Fold - high eps')\n",
    "    xs_fold_bif_func_lbd_spl_hi, ps_fold_bif_func_lbd_spl_hi = fixed_point_continuation(func=fold_bif_func_lbd_spl, \n",
    "                             x_ini=x_ini_fold_bif_func_lbd_spl,\n",
    "                             p_old=(kappa, k, eps, r),\n",
    "                             p_box=(np.array([-np.inf, -np.inf, eps_min, -np.inf]), np.array([np.inf, np.inf, eps_max, np.inf])), \n",
    "                             p_step=np.array([0.0, 0.0, 1e-3, 0.0]),\n",
    "                             dist_func=balanced_relative_dist, \n",
    "                             dist_tol=0.1,\n",
    "                             maxiter=1000,\n",
    "                             p_step_decrease_multiplier=np.array([1.0, 1.0, 0.8, 1.0]),\n",
    "                             p_step_increase_multiplier=np.array([1.0, 1.0, 1+1e-2, 1.0]))\n",
    "    \n",
    "    print('Fold - low eps')\n",
    "    xs_fold_bif_func_lbd_spl_lo, ps_fold_bif_func_lbd_spl_lo = fixed_point_continuation(func=fold_bif_func_lbd_spl, \n",
    "                             x_ini=x_ini_fold_bif_func_lbd_spl,\n",
    "                             p_old=(kappa, k, eps, r),\n",
    "                             p_box=(np.array([-np.inf, -np.inf, eps_min, -np.inf]), np.array([np.inf, np.inf, eps_max, np.inf])), \n",
    "                             p_step=np.array([0.0, 0.0, -1e-3, 0.0]),\n",
    "                             dist_func=balanced_relative_dist, \n",
    "                             dist_tol=0.1,\n",
    "                             maxiter=1000,\n",
    "                             p_step_decrease_multiplier=np.array([1.0, 1.0, 0.8, 1.0]),\n",
    "                             p_step_increase_multiplier=np.array([1.0, 1.0, 1+1e-2, 1.0]))\n",
    "    \n",
    "    \n",
    "    \n",
    "    xs_fold_bif_func_lbd_spl = np.concatenate((xs_fold_bif_func_lbd_spl_hi, xs_fold_bif_func_lbd_spl_lo), 0)\n",
    "    ps_fold_bif_func_lbd_spl = np.concatenate((ps_fold_bif_func_lbd_spl_hi, ps_fold_bif_func_lbd_spl_lo), 0)\n",
    "    \n",
    "    \n",
    "    # take the closest two values as initial conditions \n",
    "    inds = np.argsort(np.abs(r - ps_transcrit_bif_func_lbd_spl_r_range[:, -1]))[:2]\n",
    "    weights = np.abs(r - ps_transcrit_bif_func_lbd_spl_r_range[inds, -1])\n",
    "    x_ini_transcrit_bif_func_lbd_spl = np.average(xs_transcrit_bif_func_lbd_spl_r_range[inds, :], axis=0, weights=weights)\n",
    "    \n",
    "    # extend to all epsilon\n",
    "    print('Transcrit - high eps')\n",
    "    xs_transcrit_bif_func_lbd_spl_hi, ps_transcrit_bif_func_lbd_spl_hi = fixed_point_continuation(func=transcrit_bif_func_lbd_spl, \n",
    "                             x_ini=x_ini_transcrit_bif_func_lbd_spl,\n",
    "                             p_old=(kappa, k, eps, r),\n",
    "                             p_box=(np.array([-np.inf, -np.inf, eps_min, -np.inf]), np.array([np.inf, np.inf, eps_max, np.inf])), \n",
    "                             p_step=np.array([0.0, 0.0, 1e-3, 0.0]),\n",
    "                             dist_func=balanced_relative_dist, \n",
    "                             dist_tol=0.1,\n",
    "                             maxiter=5000,\n",
    "                             p_step_decrease_multiplier=np.array([1.0, 1.0, 0.8, 1.0]),\n",
    "                             p_step_increase_multiplier=np.array([1.0, 1.0, 1+1e-2, 1.0]))\n",
    "    \n",
    "    print('Transcrit - low eps')\n",
    "    xs_transcrit_bif_func_lbd_spl_lo, ps_transcrit_bif_func_lbd_spl_lo = fixed_point_continuation(func=transcrit_bif_func_lbd_spl, \n",
    "                             x_ini=x_ini_transcrit_bif_func_lbd_spl,\n",
    "                             p_old=(kappa, k, eps, r),\n",
    "                             p_box=(np.array([-np.inf, -np.inf, eps_min, -np.inf]), np.array([np.inf, np.inf, eps_max, np.inf])), \n",
    "                             p_step=np.array([0.0, 0.0, -1e-3, 0.0]),\n",
    "                             dist_func=balanced_relative_dist, \n",
    "                             dist_tol=0.1,\n",
    "                             maxiter=1000,\n",
    "                             p_step_decrease_multiplier=np.array([1.0, 1.0, 0.8, 1.0]),\n",
    "                             p_step_increase_multiplier=np.array([1.0, 1.0, 1+1e-2, 1.0]))\n",
    "    \n",
    "    \n",
    "    \n",
    "    xs_transcrit_bif_func_lbd_spl = np.concatenate((xs_transcrit_bif_func_lbd_spl_hi, xs_transcrit_bif_func_lbd_spl_lo), 0)\n",
    "    ps_transcrit_bif_func_lbd_spl = np.concatenate((ps_transcrit_bif_func_lbd_spl_hi, ps_transcrit_bif_func_lbd_spl_lo), 0)\n",
    "\n",
    "    \n",
    "    plt.figure(figsize=(10, 6))\n",
    "    plt.plot(epsilon_from_eps(ps_fold_bif_func_lbd_spl[:, 2]), xs_fold_bif_func_lbd_spl[:, -1], 'ro', label='fold bifurcation')\n",
    "    plt.plot(epsilon_from_eps(ps_transcrit_bif_func_lbd_spl[:, 2]), xs_transcrit_bif_func_lbd_spl[:, -1], 'bo', label='transcrit bifurcation')\n",
    "    # plt.plot(epsilon_from_eps(ps_fold_bif_func_lbd_spl[:, 2]), xs_fold_bif_func_lbd_spl[:, 0], 'r+', label='fold bifurcation mu')\n",
    "    # plt.plot(epsilon_from_eps(ps_transcrit_bif_func_lbd_spl[:, 2]), xs_transcrit_bif_func_lbd_spl[:, 0], 'b+', label='transcrit bifurcation mu')\n",
    "    # plt.plot(epsilon_from_eps(ps_fold_bif_func_lbd_spl[:, 2]), xs_fold_bif_func_lbd_spl[:, 1], 'r*', label='fold bifurcation sig')\n",
    "    # plt.plot(epsilon_from_eps(ps_transcrit_bif_func_lbd_spl[:, 2]), xs_transcrit_bif_func_lbd_spl[:, 1], 'b*', label='transcrit bifurcation sig')\n",
    "    epsilon_range = np.logspace(np.log10(epsilon_min), np.log10(epsilon_max))\n",
    "    kappa_array, k_array, eps_array, lbd_spl_array, r_array = reparameterize(Drho, Dc, T, epsilon_range, r)\n",
    "    ylims = plt.ylim()\n",
    "    plt.plot(epsilon_range, lbd_spl_array, 'k-', label='KS line')\n",
    "    lower_stab_array = -1/k_array * np.log(eps_array / k_array / kappa_array)\n",
    "    plt.plot(epsilon_range, lower_stab_array, 'g-', label='lower stability bound')\n",
    "\n",
    "    # plt.plot(epsilon_range, [fsolve(lambda x: kappa * (np.exp(-k * x) - np.exp(-k * x / 2) + eps * x / 2) , 40) for eps in eps_array], 'g-o')\n",
    "\n",
    "    plt.ylim(*ylims)\n",
    "    if log_y:\n",
    "        plt.yscale('log')\n",
    "        \n",
    "    plt.legend()\n",
    "    plt.xscale('log')\n",
    "    plt.xlabel('epsilon')\n",
    "    plt.ylabel('lbd_spl')\n",
    "    plt.title('Gauss closure phase portrait')\n",
    "    plt.grid(True)\n",
    "    plt.show()\n",
    "\n",
    "# Define sliders and checkboxes\n",
    "n_epsilon_slider = widgets.IntSlider(value=1000, min=100, max=10000, step=100, continuous_update=False, description='n_epsilon')\n",
    "r_slider = widgets.FloatLogSlider(value=1.01e-3, base=10, min=-8, max=-1, step=0.1, readout_format='.2e', continuous_update=False, description='r')\n",
    "log_y_toggle = widgets.ToggleButton(value=False, description='Log y-axis', button_style='')\n",
    "\n",
    "# Create interactive plot\n",
    "interactive_plot = interactive(plot_functions, \n",
    "                               n_epsilon=n_epsilon_slider,\n",
    "                               r=r_slider,\n",
    "                               log_y=log_y_toggle)\n",
    "\n",
    "display(interactive_plot)\n"
   ]
  },
  {
   "cell_type": "code",
   "execution_count": 37,
   "metadata": {},
   "outputs": [
    {
     "data": {
      "application/vnd.jupyter.widget-view+json": {
       "model_id": "19ebaa02ba614340af2913db70230bd9",
       "version_major": 2,
       "version_minor": 0
      },
      "text/plain": [
       "interactive(children=(IntSlider(value=1000, continuous_update=False, description='n_epsilon', max=10000, min=1…"
      ]
     },
     "metadata": {},
     "output_type": "display_data"
    }
   ],
   "source": [
    "# want to explore transcrit and fold at any r\n",
    "import numpy as np\n",
    "import matplotlib.pyplot as plt\n",
    "%matplotlib widget\n",
    "from ipywidgets import interactive, widgets\n",
    "from IPython.display import display\n",
    "import warnings\n",
    "from utils import epsilon_from_eps\n",
    "warnings.filterwarnings('ignore', category=RuntimeWarning)\n",
    "\n",
    "epsilon_min = 1e-7\n",
    "epsilon_max = 1e1\n",
    "\n",
    "# Function to plot\n",
    "def plot_functions(n_epsilon, r, log_y):\n",
    "\n",
    "    kappa, k, eps, _, _ = reparameterize(Drho, Dc, T, epsilon, r)\n",
    "    _, _, eps_min, _, _ = reparameterize(Drho, Dc, T, epsilon_min, r)\n",
    "    _, _, eps_max, _, _ = reparameterize(Drho, Dc, T, epsilon_max, r)\n",
    "\n",
    "    # take the closest two values as initial conditions \n",
    "    inds = np.argsort(np.abs(r - ps_fold_bif_func_lbd_spl_r_range[:, -1]))[:2]\n",
    "    weights = np.abs(r - ps_fold_bif_func_lbd_spl_r_range[inds, -1])\n",
    "    x_ini_fold_bif_func_lbd_spl = np.average(xs_fold_bif_func_lbd_spl_r_range[inds, :], axis=0, weights=weights)\n",
    "    \n",
    "    # extend to all epsilon\n",
    "    print('Fold - high eps')\n",
    "    xs_fold_bif_func_lbd_spl_hi, ps_fold_bif_func_lbd_spl_hi = fixed_point_continuation(func=fold_bif_func_lbd_spl, \n",
    "                             x_ini=x_ini_fold_bif_func_lbd_spl,\n",
    "                             p_old=(kappa, k, eps, r),\n",
    "                             p_box=(np.array([-np.inf, -np.inf, eps_min, -np.inf]), np.array([np.inf, np.inf, eps_max, np.inf])), \n",
    "                             p_step=np.array([0.0, 0.0, 1e-3, 0.0]),\n",
    "                             dist_func=balanced_relative_dist, \n",
    "                             dist_tol=0.1,\n",
    "                             maxiter=1000,\n",
    "                             p_step_decrease_multiplier=np.array([1.0, 1.0, 0.8, 1.0]),\n",
    "                             p_step_increase_multiplier=np.array([1.0, 1.0, 1+1e-2, 1.0]))\n",
    "    \n",
    "    print('Fold - low eps')\n",
    "    xs_fold_bif_func_lbd_spl_lo, ps_fold_bif_func_lbd_spl_lo = fixed_point_continuation(func=fold_bif_func_lbd_spl, \n",
    "                             x_ini=x_ini_fold_bif_func_lbd_spl,\n",
    "                             p_old=(kappa, k, eps, r),\n",
    "                             p_box=(np.array([-np.inf, -np.inf, eps_min, -np.inf]), np.array([np.inf, np.inf, eps_max, np.inf])), \n",
    "                             p_step=np.array([0.0, 0.0, -1e-3, 0.0]),\n",
    "                             dist_func=balanced_relative_dist, \n",
    "                             dist_tol=0.1,\n",
    "                             maxiter=1000,\n",
    "                             p_step_decrease_multiplier=np.array([1.0, 1.0, 0.8, 1.0]),\n",
    "                             p_step_increase_multiplier=np.array([1.0, 1.0, 1+1e-2, 1.0]))\n",
    "    \n",
    "    \n",
    "    \n",
    "    xs_fold_bif_func_lbd_spl = np.concatenate((xs_fold_bif_func_lbd_spl_lo[::-1, :], xs_fold_bif_func_lbd_spl_hi), 0)\n",
    "    ps_fold_bif_func_lbd_spl = np.concatenate((ps_fold_bif_func_lbd_spl_lo[::-1, :], ps_fold_bif_func_lbd_spl_hi), 0)\n",
    "    \n",
    "\n",
    "    plt.figure(figsize=(10, 6))\n",
    "    plt.plot(epsilon_from_eps(ps_fold_bif_func_lbd_spl[:, 2]), xs_fold_bif_func_lbd_spl[:, -1], 'ro-', alpha=0.0, label='fold bifurcation')\n",
    "    # plt.plot(epsilon_from_eps(ps_fold_bif_func_lbd_spl[:, 2]), xs_fold_bif_func_lbd_spl[:, 0], 'r+', label='fold bifurcation mu')\n",
    "    # plt.plot(epsilon_from_eps(ps_fold_bif_func_lbd_spl[:, 2]), xs_fold_bif_func_lbd_spl[:, 1], 'r*', label='fold bifurcation sig')\n",
    "    kappa_array, k_array, eps_array, lbd_spl_array, r_array = reparameterize(Drho, Dc, T, epsilon_from_eps(ps_fold_bif_func_lbd_spl[:, 2]), r)\n",
    "    lower_stab_array = -1/k_array * np.log(eps_array / k_array / kappa_array)\n",
    "    plt.plot(epsilon_from_eps(ps_fold_bif_func_lbd_spl[:, 2]), lower_stab_array, 'g-', alpha=0.0, label='lower stability bound')\n",
    "    ylims = plt.ylim()\n",
    "\n",
    "    # plt.plot(epsilon_range, [fsolve(lambda x: kappa * (np.exp(-k * x) - np.exp(-k * x / 2) + eps * x / 2) , 40) for eps in eps_array], 'g-o')\n",
    "    NNN = len(xs_fold_bif_func_lbd_spl[:, -1])\n",
    "    plt.fill_between(epsilon_from_eps(ps_fold_bif_func_lbd_spl[:, 2]), xs_fold_bif_func_lbd_spl[:, -1], [ylims[1]]*NNN,                 color=(0, 0, 1))\n",
    "    plt.fill_between(epsilon_from_eps(ps_fold_bif_func_lbd_spl[:, 2]), lower_stab_array,                xs_fold_bif_func_lbd_spl[:, -1],color=(0.5, 0, 0.5))\n",
    "    plt.fill_between(epsilon_from_eps(ps_fold_bif_func_lbd_spl[:, 2]), [ylims[0]]*NNN,                  lower_stab_array,               color=(1, 0, 0))\n",
    "    scale_argument = np.asarray([fsolve(lambda x: kappa * np.exp(-k * x) - kappa * np.exp(-k * x / 2) + eps * x / 2, 30) for eps in eps_array]).flatten()\n",
    "    scale_argument2 = - 2 / k_array * np.log(epsilon_from_eps(ps_fold_bif_func_lbd_spl[:, 2]) / k_array / kappa_array)\n",
    "    plt.plot(epsilon_from_eps(ps_fold_bif_func_lbd_spl[:, 2]), scale_argument, 'white', linestyle='--')\n",
    "    # plt.plot(epsilon_from_eps(ps_fold_bif_func_lbd_spl[:, 2]), scale_argument2, 'white')\n",
    "    # plt.fill_between(epsilon_from_eps(ps_fold_bif_func_lbd_spl[:, 2]), scale_argument, [ylims[1]]*NNN,   color=(0, 0, 1))\n",
    "    # plt.fill_between(epsilon_from_eps(ps_fold_bif_func_lbd_spl[:, 2]), lower_stab_array, scale_argument, color=(0.5, 0, 0.5))\n",
    "    # plt.fill_between(epsilon_from_eps(ps_fold_bif_func_lbd_spl[:, 2]), [ylims[0]]*NNN, lower_stab_array, color=(1, 0, 0))\n",
    "    \n",
    "    # plt.plot(epsilon_from_eps(ps_fold_bif_func_lbd_spl[:, 2]), lbd_spl_array, 'white', label='predicted physics')\n",
    "\n",
    "    # plt.ylim(*ylims)\n",
    "    plt.xlim(0.8e-2, 1.05e0)\n",
    "    plt.ylim(11, 31)\n",
    "\n",
    "    if log_y:\n",
    "        plt.yscale('log')\n",
    "        \n",
    "    # plt.legend()\n",
    "    plt.xscale('log')\n",
    "    plt.xlabel('epsilon')\n",
    "    plt.ylabel('lbd_spl')\n",
    "    plt.title('Gauss closure phase portrait')\n",
    "    plt.grid(True)\n",
    "    plt.show()\n",
    "\n",
    "# Define sliders and checkboxes\n",
    "n_epsilon_slider = widgets.IntSlider(value=1000, min=100, max=10000, step=100, continuous_update=False, description='n_epsilon')\n",
    "r_slider = widgets.FloatLogSlider(value=1.01e-3, base=10, min=-8, max=-1, step=0.1, readout_format='.2e', continuous_update=False, description='r')\n",
    "log_y_toggle = widgets.ToggleButton(value=False, description='Log y-axis', button_style='')\n",
    "\n",
    "# Create interactive plot\n",
    "interactive_plot = interactive(plot_functions, \n",
    "                               n_epsilon=n_epsilon_slider,\n",
    "                               r=r_slider,\n",
    "                               log_y=log_y_toggle)\n",
    "\n",
    "display(interactive_plot)\n"
   ]
  },
  {
   "cell_type": "code",
   "execution_count": null,
   "metadata": {},
   "outputs": [],
   "source": []
  },
  {
   "cell_type": "code",
   "execution_count": 43,
   "metadata": {
    "code_folding": [
     0
    ],
    "jupyter": {
     "source_hidden": true
    }
   },
   "outputs": [],
   "source": [
    "# approx functions (old)\n",
    "from MFKSGaussClosure import gauss, erfc\n",
    "def g_avg_approx(mu, sig, kappa, k, eps, lbd_spl, r):\n",
    "    mu_tilde = mu - k * sig**2\n",
    "    return kappa * np.exp((mu_tilde**2 - mu**2) / 2 / sig**2) + eps * mu\n",
    "\n",
    "def lbd_g_avg_approx(mu, sig, kappa, k, eps, lbd_spl, r):\n",
    "    mu_tilde = mu - k * sig**2\n",
    "    return (kappa * np.exp((mu_tilde**2 - mu**2) / 2 / sig**2) * (sig**2 * gauss(mu_tilde, sig) + mu_tilde) +\n",
    "            eps * (sig**2 + mu**2))\n",
    "\n",
    "def rate_avg_approx(mu, sig, kappa, k, eps, lbd_spl, r):\n",
    "    # return r * sig / np.sqrt(2 * np.pi) - r / 2 * (lbd_spl - mu) + r / np.sqrt(2 * np.pi) * (lbd_spl - mu)**2 / 2 / sig\n",
    "    return r * np.maximum(mu - lbd_spl, 0)\n",
    "\n",
    "    # return r * (np.maximum(0, -(lbd_spl - mu)) + np.exp(-np.sqrt(2*np.pi*(lbd_spl - mu)**2)/2) / np.sqrt(2 * np.pi)) \n",
    "\n",
    "def lbd2_rate_avg_approx(mu, sig, kappa, k, eps, lbd_spl, r):\n",
    "    return r * (sig**2 * (2 * sig**2 + mu**2) * gauss(lbd_spl - mu, sig) + \n",
    "                (mu**2 * (mu - lbd_spl) + sig**2 * (3 * mu - lbd_spl)) * erfc((lbd_spl - mu) / sig))\n",
    "\n",
    "from matplotlib.colors import LogNorm, ListedColormap\n",
    "def create_transparent_cmap(cmap_name, alpha_vals):\n",
    "    base_cmap = plt.get_cmap(cmap_name)\n",
    "    base_colors = base_cmap(np.arange(base_cmap.N))\n",
    "\n",
    "    new_colors = np.zeros_like(base_colors)\n",
    "    for i, alpha in enumerate(alpha_vals):\n",
    "        new_colors[i, :] = np.append(base_colors[i, :3], alpha)\n",
    "    return ListedColormap(new_colors)\n",
    "\n",
    "# Define alpha values for transparency (0 to 1)\n",
    "alpha_vals = np.linspace(0, 1, 256)\n",
    "\n",
    "# Create custom colormap with transparency\n",
    "transparent_cmap = create_transparent_cmap('Blues', alpha_vals)\n"
   ]
  },
  {
   "cell_type": "code",
   "execution_count": null,
   "metadata": {},
   "outputs": [],
   "source": [
    "# terms by order of magnitude\n",
    "import numpy as np\n",
    "import matplotlib.pyplot as plt\n",
    "from matplotlib.colors import LogNorm, SymLogNorm\n",
    "%matplotlib widget\n",
    "from matplotlib.widgets import Slider\n",
    "from ipywidgets import interact, FloatSlider\n",
    "from MFKSGaussClosure import mu_sig_prime, mu_prime, sig_prime\n",
    "from scipy.integrate import solve_ivp\n",
    "\n",
    "def sig_term1(mu, sig, kappa, k, eps, lbd_spl, r):\n",
    "    eps = 0.0\n",
    "    lbd_spl = np.inf\n",
    "    r = 0.0\n",
    "    args = (mu, sig, kappa, k, eps, lbd_spl, r)\n",
    "    mu_tilde = mu - k * sig**2\n",
    "    return kappa * k * sig * np.exp(-k * mu + k**2 * sig**2 / 2) * erfc(- mu_tilde / sig) - eps * sig\n",
    "\n",
    "def sig_term2(mu, sig, kappa, k, eps, lbd_spl, r):\n",
    "    eps = 0.0\n",
    "    lbd_spl = np.inf\n",
    "    r = 0.0\n",
    "    args = (mu, sig, kappa, k, eps, lbd_spl, r)\n",
    "    mu_tilde = mu - k * sig**2\n",
    "    return sig * gauss(*args) * (eps * mu * (1 + mu**2/sig**2) / 2 + kappa * np.exp(-k * mu + k**2 * sig**2 / 2) * erfc(- mu_tilde / sig) * (1/2 + k * sig**2 / mu + mu**2/sig**2/2) - kappa * (1 + mu**2/sig**2)/2)\n",
    "\n",
    "def sig_term_eps(mu, sig, kappa, k, eps, lbd_spl, r):\n",
    "    lbd_spl = np.inf\n",
    "    r = 0.0\n",
    "    args = (mu, sig, kappa, k, eps, lbd_spl, r)\n",
    "    mu_tilde = mu - k * sig**2\n",
    "    return - eps * sig + sig * gauss(*args) * (eps * mu * (1 + mu**2/sig**2) / 2)\n",
    "\n",
    "# def sig_term_r1(mu, sig, kappa, k, eps, lbd_spl, r):\n",
    "#     eps = 0.0\n",
    "#     args = (mu, sig, kappa, k, eps, lbd_spl, r)\n",
    "#     res = - 1/8 * lbd2_rate_avg(*args)\n",
    "#     return res / sig\n",
    "def sig_term_r1(mu, sig, kappa, k, eps, lbd_spl, r):\n",
    "    eps = 0.0\n",
    "    args = (mu, sig, kappa, k, eps, lbd_spl, r)\n",
    "    res1 = ((mu**2 + sig**2) * rate_avg(mu, sig, kappa, k, eps, lbd_spl, r) + \n",
    "            2 * r * mu * sig**2 * erfc((lbd_spl - mu) / sig) / erfc(- mu / sig) + \n",
    "            r * sig**4 * gauss(lbd_spl - mu, sig) / erfc(- mu / sig) )\n",
    "    res2 = r * sig**2 * gauss(lbd_spl - mu, sig) / erfc(- mu / sig) - r * (lbd_spl - mu) * erfc((lbd_spl - mu) / sig) / erfc(- mu / sig)\n",
    "    res3 = 0.25 * mu**2 * rate_avg(*args) / sig\n",
    "    return - res1 / 8 / sig - res2 * sig / 4 + res3\n",
    "\n",
    "# def sig_term_r2(mu, sig, kappa, k, eps, lbd_spl, r):\n",
    "#     eps = 0.0\n",
    "#     args = (mu, sig, kappa, k, eps, lbd_spl, r)\n",
    "#     res = 0.5 * (mu**2 - sig**2) * (0.5 * rate_avg(*args))\n",
    "#     return res / sig\n",
    "    \n",
    "def sig_term_r2(mu, sig, kappa, k, eps, lbd_spl, r):\n",
    "    eps = 0.0\n",
    "    args = (mu, sig, kappa, k, eps, lbd_spl, r)\n",
    "    res = 0.25 * mu**2 * rate_avg(*args)\n",
    "    return res / sig\n",
    "    \n",
    "\n",
    "\n",
    "\n",
    "def plot_functions(kappa, k, eps, lbd_spl, r, funcs_to_plot):\n",
    "    # Create a grid of points\n",
    "    x = np.linspace(0, 100, 1000)\n",
    "    y = np.linspace(0.001, 10, 1000)\n",
    "    X, Y = np.meshgrid(x, y)\n",
    "    mask = X - 2*Y < 0\n",
    "\n",
    "    args = (kappa, k, eps, lbd_spl, r)\n",
    "\n",
    "    plt.close('all')\n",
    "    plt.figure(figsize=(10, 6))\n",
    "\n",
    "    mynorm = SymLogNorm(1e-7, vmin=-1e1, vmax=1e1)\n",
    "    if 'sig_term1' in funcs_to_plot:\n",
    "        strm = plt.pcolormesh(x, y, sig_term1(X, Y, *args), cmap='bwr', norm=mynorm)\n",
    "    if 'sig_term2' in funcs_to_plot:\n",
    "        strm = plt.pcolormesh(x, y, sig_term2(X, Y, *args), cmap='bwr', norm=mynorm)\n",
    "    if 'sig_term_eps' in funcs_to_plot:\n",
    "        strm = plt.pcolormesh(x, y, sig_term_eps(X, Y, *args), cmap='bwr', norm=mynorm)\n",
    "    if 'sig_term_r1' in funcs_to_plot:\n",
    "        strm = plt.pcolormesh(x, y, sig_term_r1(X, Y, *args), cmap='bwr', norm=mynorm)\n",
    "    if 'sig_term_r2' in funcs_to_plot:\n",
    "        strm = plt.pcolormesh(x, y, sig_term_r2(X, Y, *args), cmap='bwr', norm=mynorm)\n",
    "        \n",
    "    plt.colorbar(strm)\n",
    "    plt.xlim(np.min(x),np.max(x))\n",
    "    plt.ylim(np.min(y),np.max(y))\n",
    "    plt.xlabel('mu')\n",
    "    plt.ylabel('sig')\n",
    "    plt.grid()\n",
    "    plt.tight_layout()\n",
    "    plt.show()\n",
    "\n",
    "# Define sliders and checkboxes\n",
    "kappa_slider = widgets.FloatSlider(value=1, min=0.1, max=5, step=0.1, description='kappa', continuous_update=False)\n",
    "k_slider = widgets.FloatSlider(value=1, min=0.1, max=5, step=0.1, description='k', continuous_update=False)\n",
    "eps_slider = widgets.FloatSlider(value=1e-6, min=0., max=1e-2, step=1e-6, readout_format='.1e',description='eps', continuous_update=False)\n",
    "lbd_spl_slider = widgets.FloatSlider(value=50, min=0.1, max=100, step=1, description='lbd_spl', continuous_update=False)\n",
    "r_slider = widgets.FloatSlider(value=1, min=0.0, max=5, step=0.1, description='r', continuous_update=False)\n",
    "funcs_checkboxes = widgets.SelectMultiple(\n",
    "    options=['sig_term1', 'sig_term2', 'sig_term_eps', 'sig_term_r1', 'sig_term_r2'],\n",
    "    value=['sig_term1'],\n",
    "    description='Functions'\n",
    ")\n",
    "\n",
    "# Create interactive plot\n",
    "interactive_plot = interactive(plot_functions, \n",
    "                               mu=mu_slider, \n",
    "                               sig=sig_slider, \n",
    "                               kappa=kappa_slider, \n",
    "                               k=k_slider, \n",
    "                               eps=eps_slider, \n",
    "                               lbd_spl=lbd_spl_slider, \n",
    "                               r=r_slider, \n",
    "                               funcs_to_plot=funcs_checkboxes\n",
    "            )\n",
    "\n",
    "display(interactive_plot)\n"
   ]
  },
  {
   "cell_type": "code",
   "execution_count": null,
   "metadata": {},
   "outputs": [],
   "source": []
  },
  {
   "cell_type": "code",
   "execution_count": 37,
   "metadata": {
    "jupyter": {
     "source_hidden": true
    }
   },
   "outputs": [
    {
     "data": {
      "application/vnd.jupyter.widget-view+json": {
       "model_id": "b665e7f8111c4e6c8e6a86e4e082c517",
       "version_major": 2,
       "version_minor": 0
      },
      "text/plain": [
       "Canvas(toolbar=Toolbar(toolitems=[('Home', 'Reset original view', 'home', 'home'), ('Back', 'Back to previous …"
      ]
     },
     "metadata": {},
     "output_type": "display_data"
    },
    {
     "name": "stdout",
     "output_type": "stream",
     "text": [
      "[[-2.6  1.   0.  ...  0.   0.   0. ]\n",
      " [ 2.6 -2.   1.  ...  0.   0.   0. ]\n",
      " [ 0.   1.  -2.  ...  0.   0.   0. ]\n",
      " ...\n",
      " [ 0.   0.   0.  ... -2.   1.   0. ]\n",
      " [ 0.   0.   0.  ...  1.  -2.   1. ]\n",
      " [ 0.   0.   0.  ...  0.   1.  -1. ]]\n"
     ]
    }
   ],
   "source": []
  },
  {
   "cell_type": "code",
   "execution_count": null,
   "metadata": {},
   "outputs": [],
   "source": []
  }
 ],
 "metadata": {
  "kernelspec": {
   "display_name": "Python 3",
   "language": "python",
   "name": "python3"
  },
  "language_info": {
   "codemirror_mode": {
    "name": "ipython",
    "version": 3
   },
   "file_extension": ".py",
   "mimetype": "text/x-python",
   "name": "python",
   "nbconvert_exporter": "python",
   "pygments_lexer": "ipython3",
   "version": "3.9.18"
  },
  "latex_envs": {
   "LaTeX_envs_menu_present": true,
   "autoclose": true,
   "autocomplete": false,
   "bibliofile": "biblio.bib",
   "cite_by": "apalike",
   "current_citInitial": 1,
   "eqLabelWithNumbers": true,
   "eqNumInitial": 1,
   "hotkeys": {
    "equation": "Ctrl-E",
    "itemize": "Ctrl-I"
   },
   "labels_anchors": false,
   "latex_user_defs": false,
   "report_style_numbering": false,
   "user_envs_cfg": false
  },
  "toc": {
   "base_numbering": 1,
   "nav_menu": {},
   "number_sections": true,
   "sideBar": true,
   "skip_h1_title": false,
   "title_cell": "Table of Contents",
   "title_sidebar": "Contents",
   "toc_cell": false,
   "toc_position": {},
   "toc_section_display": true,
   "toc_window_display": false
  },
  "varInspector": {
   "cols": {
    "lenName": 16,
    "lenType": 16,
    "lenVar": 40
   },
   "kernels_config": {
    "python": {
     "delete_cmd_postfix": "",
     "delete_cmd_prefix": "del ",
     "library": "var_list.py",
     "varRefreshCmd": "print(var_dic_list())"
    },
    "r": {
     "delete_cmd_postfix": ") ",
     "delete_cmd_prefix": "rm(",
     "library": "var_list.r",
     "varRefreshCmd": "cat(var_dic_list()) "
    }
   },
   "types_to_exclude": [
    "module",
    "function",
    "builtin_function_or_method",
    "instance",
    "_Feature"
   ],
   "window_display": false
  }
 },
 "nbformat": 4,
 "nbformat_minor": 4
}
